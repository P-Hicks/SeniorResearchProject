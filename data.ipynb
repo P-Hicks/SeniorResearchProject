{
 "cells": [
  {
   "cell_type": "code",
   "execution_count": 151,
   "metadata": {},
   "outputs": [],
   "source": [
    "import sqlite3\n",
    "\n",
    "from main import setup1, setup2\n",
    "\n",
    "# setup1()\n",
    "# setup2()\n",
    "\n",
    "# from django.db import connection \n",
    "\n",
    "import psycopg2"
   ]
  },
  {
   "cell_type": "code",
   "execution_count": 152,
   "metadata": {},
   "outputs": [],
   "source": [
    "# from asgiref.sync import sync_to_async\n",
    "\n",
    "# @sync_to_async\n",
    "def run_query(query, fetch=True):\n",
    "    result = None\n",
    "    try:\n",
    "        connection = psycopg2.connect(\"dbname=data user=root password=root\")\n",
    "        # Connect to DB and create a cursor\n",
    "        # sqlite_connection = sqlite3.connect('db.sqlite3')\n",
    "        cursor = connection.cursor()\n",
    "        cursor.execute(query) \n",
    "        # Fetch and output result\n",
    "        if fetch:\n",
    "            result = cursor.fetchall()\n",
    "        else:\n",
    "            connection.commit()\n",
    "        # Close the cursor\n",
    "        cursor.close()\n",
    "        \n",
    "    # Handle errors\n",
    "    # except sqlite3.Error as error:\n",
    "        # print('Error occurred - ', error)\n",
    " \n",
    "    # Close DB Connection irrespective of success\n",
    "    # or failure\n",
    "    finally:\n",
    "        if connection:\n",
    "            connection.close()\n",
    "    return result"
   ]
  },
  {
   "cell_type": "code",
   "execution_count": 153,
   "metadata": {},
   "outputs": [],
   "source": [
    "def read_file(file_path):\n",
    "    try:\n",
    "        with open(file_path, 'r') as file:\n",
    "            content = file.read()\n",
    "        return content\n",
    "    except FileNotFoundError:\n",
    "        return None\n",
    "    # except IOError as e:\n",
    "    #     return None\n",
    "    \n",
    "\n",
    "def run_query_file(path, fetch=True):\n",
    "    query = read_file(path)\n",
    "    return run_query(query, fetch=fetch)"
   ]
  },
  {
   "cell_type": "code",
   "execution_count": 154,
   "metadata": {},
   "outputs": [
    {
     "ename": "InvalidTableDefinition",
     "evalue": "cannot drop columns from view\n",
     "output_type": "error",
     "traceback": [
      "\u001b[1;31m---------------------------------------------------------------------------\u001b[0m",
      "\u001b[1;31mInvalidTableDefinition\u001b[0m                    Traceback (most recent call last)",
      "Cell \u001b[1;32mIn[154], line 5\u001b[0m\n\u001b[0;32m      1\u001b[0m run_query_file(\n\u001b[0;32m      2\u001b[0m     \u001b[38;5;124m'\u001b[39m\u001b[38;5;124msql_queries/views/games_with_numplayers.sql\u001b[39m\u001b[38;5;124m'\u001b[39m,\n\u001b[0;32m      3\u001b[0m     fetch\u001b[38;5;241m=\u001b[39m\u001b[38;5;28;01mFalse\u001b[39;00m\n\u001b[0;32m      4\u001b[0m )\n\u001b[1;32m----> 5\u001b[0m \u001b[43mrun_query_file\u001b[49m\u001b[43m(\u001b[49m\n\u001b[0;32m      6\u001b[0m \u001b[43m    \u001b[49m\u001b[38;5;124;43m'\u001b[39;49m\u001b[38;5;124;43msql_queries/views/player_with_numturns.sql\u001b[39;49m\u001b[38;5;124;43m'\u001b[39;49m\u001b[43m,\u001b[49m\n\u001b[0;32m      7\u001b[0m \u001b[43m    \u001b[49m\u001b[43mfetch\u001b[49m\u001b[38;5;241;43m=\u001b[39;49m\u001b[38;5;28;43;01mFalse\u001b[39;49;00m\n\u001b[0;32m      8\u001b[0m \u001b[43m)\u001b[49m\n\u001b[0;32m      9\u001b[0m run_query_file(\n\u001b[0;32m     10\u001b[0m     \u001b[38;5;124m'\u001b[39m\u001b[38;5;124msql_queries/views/player_game_pair.sql\u001b[39m\u001b[38;5;124m'\u001b[39m,\n\u001b[0;32m     11\u001b[0m     fetch\u001b[38;5;241m=\u001b[39m\u001b[38;5;28;01mFalse\u001b[39;00m\n\u001b[0;32m     12\u001b[0m )\n",
      "Cell \u001b[1;32mIn[153], line 14\u001b[0m, in \u001b[0;36mrun_query_file\u001b[1;34m(path, fetch)\u001b[0m\n\u001b[0;32m     12\u001b[0m \u001b[38;5;28;01mdef\u001b[39;00m \u001b[38;5;21mrun_query_file\u001b[39m(path, fetch\u001b[38;5;241m=\u001b[39m\u001b[38;5;28;01mTrue\u001b[39;00m):\n\u001b[0;32m     13\u001b[0m     query \u001b[38;5;241m=\u001b[39m read_file(path)\n\u001b[1;32m---> 14\u001b[0m     \u001b[38;5;28;01mreturn\u001b[39;00m \u001b[43mrun_query\u001b[49m\u001b[43m(\u001b[49m\u001b[43mquery\u001b[49m\u001b[43m,\u001b[49m\u001b[43m \u001b[49m\u001b[43mfetch\u001b[49m\u001b[38;5;241;43m=\u001b[39;49m\u001b[43mfetch\u001b[49m\u001b[43m)\u001b[49m\n",
      "Cell \u001b[1;32mIn[152], line 11\u001b[0m, in \u001b[0;36mrun_query\u001b[1;34m(query, fetch)\u001b[0m\n\u001b[0;32m      8\u001b[0m \u001b[38;5;66;03m# Connect to DB and create a cursor\u001b[39;00m\n\u001b[0;32m      9\u001b[0m \u001b[38;5;66;03m# sqlite_connection = sqlite3.connect('db.sqlite3')\u001b[39;00m\n\u001b[0;32m     10\u001b[0m cursor \u001b[38;5;241m=\u001b[39m connection\u001b[38;5;241m.\u001b[39mcursor()\n\u001b[1;32m---> 11\u001b[0m \u001b[43mcursor\u001b[49m\u001b[38;5;241;43m.\u001b[39;49m\u001b[43mexecute\u001b[49m\u001b[43m(\u001b[49m\u001b[43mquery\u001b[49m\u001b[43m)\u001b[49m \n\u001b[0;32m     12\u001b[0m \u001b[38;5;66;03m# Fetch and output result\u001b[39;00m\n\u001b[0;32m     13\u001b[0m \u001b[38;5;28;01mif\u001b[39;00m fetch:\n",
      "\u001b[1;31mInvalidTableDefinition\u001b[0m: cannot drop columns from view\n"
     ]
    }
   ],
   "source": [
    "run_query_file(\n",
    "    'sql_queries/views/games_with_numplayers.sql',\n",
    "    fetch=False\n",
    ")\n",
    "run_query_file(\n",
    "    'sql_queries/views/player_with_numturns.sql',\n",
    "    fetch=False\n",
    ")\n",
    "run_query_file(\n",
    "    'sql_queries/views/player_game_pair.sql',\n",
    "    fetch=False\n",
    ")"
   ]
  },
  {
   "cell_type": "code",
   "execution_count": 155,
   "metadata": {},
   "outputs": [
    {
     "name": "stdout",
     "output_type": "stream",
     "text": [
      "name, numplayers, avg(number_of_turns), stddev (number_of_turns), variance (number_of_turns), min(number_of_turns), max(number_of_turns)\n",
      "NewBiggestFirst, 1, 13.5780000000000000, 4.4239673922269689, 19.5714874874874875, 4, 43\n",
      "NewBiggestFirst, 2, 13.7040000000000000, 4.7754146569995963, 22.8045851462865716, 4, 54\n",
      "NewBiggestFirst, 3, 13.6206666666666667, 4.7547387743552868, 22.6075408123576152, 4, 59\n",
      "Replacement, 1, 13.5960000000000000, 5.5883820569118227, 31.2300140140140140, 4, 90\n",
      "Replacement, 2, 13.8845000000000000, 7.1363079721147277, 50.9268914728682171, 4, 153\n",
      "Replacement, 3, 14.4341666666666667, 13.0344920231900863, 169.8979823026059899, 4, 507\n",
      "Tunnels, 1, 14.1550000000000000, 4.3094717247647126, 18.5715465465465465, 5, 41\n",
      "Tunnels, 2, 14.2337500000000000, 4.5435968137040258, 20.6442720055013753, 4, 43\n",
      "Tunnels, 3, 14.1443333333333333, 4.4154370002155733, 19.4960839028727010, 4, 41\n"
     ]
    }
   ],
   "source": [
    "\n",
    "rows = run_query_file(\n",
    "    'sql_queries/averages.sql'\n",
    ")\n",
    "\n",
    "print(\"name, numplayers, avg(number_of_turns), stddev (number_of_turns), variance (number_of_turns), min(number_of_turns), max(number_of_turns)\")\n",
    "for row in rows:\n",
    "    print(\", \".join([str(i) for i in row]))\n"
   ]
  },
  {
   "cell_type": "code",
   "execution_count": 167,
   "metadata": {},
   "outputs": [
    {
     "name": "stdout",
     "output_type": "stream",
     "text": [
      "[('NewBiggestFirst', 1), ('NewBiggestFirst', 2), ('NewBiggestFirst', 3), ('Replacement', 1), ('Replacement', 2), ('Replacement', 3), ('Tunnels', 1), ('Tunnels', 2), ('Tunnels', 3)]\n",
      "9 number of players\n"
     ]
    }
   ],
   "source": [
    "import matplotlib.pyplot as plt \n",
    "import numpy as np\n",
    "\n",
    "query_1 = '''\n",
    "    SELECT\n",
    "        name, numplayers\n",
    "    FROM\n",
    "        player_game_pair\n",
    "    GROUP BY\n",
    "        name, numplayers\n",
    "    ORDER BY\n",
    "        name, numplayers\n",
    "    '''\n",
    "\n",
    "players = run_query(\n",
    "    query_1\n",
    ")\n",
    "print(players)\n",
    "print(f\"{len(players)} number of players\")\n",
    "def make_graph_for(player, ax):\n",
    "    name, numplayers = player\n",
    "    query_1 = '''\n",
    "        SELECT\n",
    "            number_of_turns\n",
    "        FROM\n",
    "            player_with_numturns\n",
    "        WHERE name = '{}' AND numplayers = {}        \n",
    "        \n",
    "        '''.format(name, numplayers)\n",
    "\n",
    "    data= run_query(\n",
    "        query_1\n",
    "    )\n",
    "    data = [i[0] for i in data]\n",
    "    # Define the bin edges for groups of 5\n",
    "    bin_size = 2\n",
    "    mx = max(data)\n",
    "    mx = 100\n",
    "    bin_edges = range(0, mx + bin_size, bin_size)\n",
    "\n",
    "    # Create histogram\n",
    "    ax.hist(data, bins=bin_edges, edgecolor='black')\n",
    "\n",
    "    # Add titles and labels\n",
    "    ax.set_title(f'{name}, {numplayers} players')\n",
    "    \n",
    "    # ax.xlabel('Value Range')\n",
    "    # ax.ylabel('Frequency')\n",
    "\n"
   ]
  },
  {
   "cell_type": "code",
   "execution_count": 168,
   "metadata": {},
   "outputs": [
    {
     "data": {
      "image/png": "[encoded data removed]",
      "text/plain": [
       "<Figure size 640x480 with 9 Axes>"
      ]
     },
     "metadata": {},
     "output_type": "display_data"
    }
   ],
   "source": [
    "fig, ax = plt.subplots(3, 3)\n",
    "# plt.subplots_adjust(wspace=2, hspace=2)\n",
    "\n",
    "for i in range(3):\n",
    "    for j in range(3):\n",
    "        make_graph_for(players[3*i + j], ax[i][j])\n",
    "        \n",
    "plt.tight_layout()"
   ]
  },
  {
   "cell_type": "code",
   "execution_count": 71,
   "metadata": {},
   "outputs": [],
   "source": [
    "\n",
    "\n",
    "# def make_graph_for(player):\n",
    "#     name, numplayers = player\n",
    "#     query_1 = '''\n",
    "#         SELECT\n",
    "#             number_of_turns\n",
    "#         FROM\n",
    "#             player_with_numturns\n",
    "#         WHERE name = '{}' AND numplayers = {}        \n",
    "        \n",
    "#         '''.format(name, numplayers)\n",
    "#     data= run_query(\n",
    "#         query_1\n",
    "#     )\n",
    "    \n",
    "#     data = [i[0] for i in data]\n",
    "#     bin_size = 2\n",
    "#     mx = max(data)\n",
    "#     mx = 100\n",
    "#     bin_edges = range(0, mx + bin_size, bin_size)\n",
    "\n",
    "#     # Create histogram\n",
    "#     plt.hist(data, bins=bin_edges, edgecolor='black', histtype='step')\n",
    "# plt.title(players[0][0])\n",
    "# make_graph_for(players[0])\n",
    "# make_graph_for(players[1])\n",
    "# make_graph_for(players[2])\n",
    "# plt.show()"
   ]
  },
  {
   "cell_type": "code",
   "execution_count": 72,
   "metadata": {},
   "outputs": [],
   "source": [
    "# plt.title(players[3][0])\n",
    "# make_graph_for(players[3])\n",
    "# make_graph_for(players[4])\n",
    "# make_graph_for(players[5])\n",
    "# plt.show()"
   ]
  },
  {
   "cell_type": "code",
   "execution_count": 73,
   "metadata": {},
   "outputs": [],
   "source": [
    "# plt.title(players[6][0])\n",
    "# make_graph_for(players[6])\n",
    "# make_graph_for(players[7])\n",
    "# make_graph_for(players[8])\n",
    "# plt.show()"
   ]
  },
  {
   "cell_type": "code",
   "execution_count": 169,
   "metadata": {},
   "outputs": [],
   "source": [
    "import pandas as pd\n",
    "\n",
    "def get_df():\n",
    "    query_1 = '''\n",
    "        SELECT\n",
    "            number_of_turns, name, numplayers\n",
    "        FROM\n",
    "            player_with_numturns\n",
    "        '''\n",
    "    data= run_query(\n",
    "        query_1\n",
    "    )\n",
    "    \n",
    "    data = {\n",
    "        'numturns':[i[0] for i in data],\n",
    "        'name':[i[1] for i in data],\n",
    "        'numplayers':[i[2] for i in data]\n",
    "    }\n",
    "\n",
    "    df = pd.DataFrame(data)\n",
    "    return df\n",
    "\n"
   ]
  },
  {
   "cell_type": "code",
   "execution_count": 170,
   "metadata": {},
   "outputs": [
    {
     "data": {
      "text/html": [
       "<div>\n",
       "<style scoped>\n",
       "    .dataframe tbody tr th:only-of-type {\n",
       "        vertical-align: middle;\n",
       "    }\n",
       "\n",
       "    .dataframe tbody tr th {\n",
       "        vertical-align: top;\n",
       "    }\n",
       "\n",
       "    .dataframe thead tr th {\n",
       "        text-align: left;\n",
       "    }\n",
       "\n",
       "    .dataframe thead tr:last-of-type th {\n",
       "        text-align: right;\n",
       "    }\n",
       "</style>\n",
       "<table border=\"1\" class=\"dataframe\">\n",
       "  <thead>\n",
       "    <tr>\n",
       "      <th></th>\n",
       "      <th></th>\n",
       "      <th colspan=\"8\" halign=\"left\">numturns</th>\n",
       "    </tr>\n",
       "    <tr>\n",
       "      <th></th>\n",
       "      <th></th>\n",
       "      <th>count</th>\n",
       "      <th>mean</th>\n",
       "      <th>std</th>\n",
       "      <th>min</th>\n",
       "      <th>25%</th>\n",
       "      <th>50%</th>\n",
       "      <th>75%</th>\n",
       "      <th>max</th>\n",
       "    </tr>\n",
       "    <tr>\n",
       "      <th>name</th>\n",
       "      <th>numplayers</th>\n",
       "      <th></th>\n",
       "      <th></th>\n",
       "      <th></th>\n",
       "      <th></th>\n",
       "      <th></th>\n",
       "      <th></th>\n",
       "      <th></th>\n",
       "      <th></th>\n",
       "    </tr>\n",
       "  </thead>\n",
       "  <tbody>\n",
       "    <tr>\n",
       "      <th rowspan=\"3\" valign=\"top\">NewBiggestFirst</th>\n",
       "      <th>1</th>\n",
       "      <td>1000.0</td>\n",
       "      <td>13.578000</td>\n",
       "      <td>4.423967</td>\n",
       "      <td>4.0</td>\n",
       "      <td>11.0</td>\n",
       "      <td>13.0</td>\n",
       "      <td>15.00</td>\n",
       "      <td>43.0</td>\n",
       "    </tr>\n",
       "    <tr>\n",
       "      <th>2</th>\n",
       "      <td>4000.0</td>\n",
       "      <td>13.704000</td>\n",
       "      <td>4.775415</td>\n",
       "      <td>4.0</td>\n",
       "      <td>11.0</td>\n",
       "      <td>13.0</td>\n",
       "      <td>15.00</td>\n",
       "      <td>54.0</td>\n",
       "    </tr>\n",
       "    <tr>\n",
       "      <th>3</th>\n",
       "      <td>6000.0</td>\n",
       "      <td>13.620667</td>\n",
       "      <td>4.754739</td>\n",
       "      <td>4.0</td>\n",
       "      <td>11.0</td>\n",
       "      <td>13.0</td>\n",
       "      <td>15.00</td>\n",
       "      <td>59.0</td>\n",
       "    </tr>\n",
       "    <tr>\n",
       "      <th rowspan=\"3\" valign=\"top\">Replacement</th>\n",
       "      <th>1</th>\n",
       "      <td>1000.0</td>\n",
       "      <td>13.596000</td>\n",
       "      <td>5.588382</td>\n",
       "      <td>4.0</td>\n",
       "      <td>10.0</td>\n",
       "      <td>13.0</td>\n",
       "      <td>15.00</td>\n",
       "      <td>90.0</td>\n",
       "    </tr>\n",
       "    <tr>\n",
       "      <th>2</th>\n",
       "      <td>4000.0</td>\n",
       "      <td>13.884500</td>\n",
       "      <td>7.136308</td>\n",
       "      <td>4.0</td>\n",
       "      <td>10.0</td>\n",
       "      <td>13.0</td>\n",
       "      <td>15.00</td>\n",
       "      <td>153.0</td>\n",
       "    </tr>\n",
       "    <tr>\n",
       "      <th>3</th>\n",
       "      <td>6000.0</td>\n",
       "      <td>14.434167</td>\n",
       "      <td>13.034492</td>\n",
       "      <td>4.0</td>\n",
       "      <td>10.0</td>\n",
       "      <td>12.0</td>\n",
       "      <td>15.00</td>\n",
       "      <td>507.0</td>\n",
       "    </tr>\n",
       "    <tr>\n",
       "      <th rowspan=\"3\" valign=\"top\">Tunnels</th>\n",
       "      <th>1</th>\n",
       "      <td>1000.0</td>\n",
       "      <td>14.155000</td>\n",
       "      <td>4.309472</td>\n",
       "      <td>5.0</td>\n",
       "      <td>11.0</td>\n",
       "      <td>14.0</td>\n",
       "      <td>16.25</td>\n",
       "      <td>41.0</td>\n",
       "    </tr>\n",
       "    <tr>\n",
       "      <th>2</th>\n",
       "      <td>4000.0</td>\n",
       "      <td>14.233750</td>\n",
       "      <td>4.543597</td>\n",
       "      <td>4.0</td>\n",
       "      <td>11.0</td>\n",
       "      <td>14.0</td>\n",
       "      <td>17.00</td>\n",
       "      <td>43.0</td>\n",
       "    </tr>\n",
       "    <tr>\n",
       "      <th>3</th>\n",
       "      <td>6000.0</td>\n",
       "      <td>14.144333</td>\n",
       "      <td>4.415437</td>\n",
       "      <td>4.0</td>\n",
       "      <td>11.0</td>\n",
       "      <td>13.0</td>\n",
       "      <td>17.00</td>\n",
       "      <td>41.0</td>\n",
       "    </tr>\n",
       "  </tbody>\n",
       "</table>\n",
       "</div>"
      ],
      "text/plain": [
       "                           numturns                                         \\\n",
       "                              count       mean        std  min   25%   50%   \n",
       "name            numplayers                                                   \n",
       "NewBiggestFirst 1            1000.0  13.578000   4.423967  4.0  11.0  13.0   \n",
       "                2            4000.0  13.704000   4.775415  4.0  11.0  13.0   \n",
       "                3            6000.0  13.620667   4.754739  4.0  11.0  13.0   \n",
       "Replacement     1            1000.0  13.596000   5.588382  4.0  10.0  13.0   \n",
       "                2            4000.0  13.884500   7.136308  4.0  10.0  13.0   \n",
       "                3            6000.0  14.434167  13.034492  4.0  10.0  12.0   \n",
       "Tunnels         1            1000.0  14.155000   4.309472  5.0  11.0  14.0   \n",
       "                2            4000.0  14.233750   4.543597  4.0  11.0  14.0   \n",
       "                3            6000.0  14.144333   4.415437  4.0  11.0  13.0   \n",
       "\n",
       "                                          \n",
       "                              75%    max  \n",
       "name            numplayers                \n",
       "NewBiggestFirst 1           15.00   43.0  \n",
       "                2           15.00   54.0  \n",
       "                3           15.00   59.0  \n",
       "Replacement     1           15.00   90.0  \n",
       "                2           15.00  153.0  \n",
       "                3           15.00  507.0  \n",
       "Tunnels         1           16.25   41.0  \n",
       "                2           17.00   43.0  \n",
       "                3           17.00   41.0  "
      ]
     },
     "execution_count": 170,
     "metadata": {},
     "output_type": "execute_result"
    }
   ],
   "source": [
    "\n",
    "# Get summary statistics\n",
    "df = get_df()\n",
    "statistics = df.groupby(['name', 'numplayers']).describe()\n",
    "statistics"
   ]
  },
  {
   "cell_type": "code",
   "execution_count": 81,
   "metadata": {},
   "outputs": [],
   "source": [
    "\n",
    "\n",
    "\n",
    "\n",
    "\n",
    "\n",
    "\n",
    "\n",
    "# # Get summary statistics\n",
    "# df = get_df(players[1])\n",
    "# statistics = df.describe()\n",
    "# print(players[1][0] , ',', players[1][1])\n",
    "# statistics"
   ]
  },
  {
   "cell_type": "code",
   "execution_count": 82,
   "metadata": {},
   "outputs": [],
   "source": [
    "\n",
    "\n",
    "# # Get summary statistics\n",
    "# df = get_df(players[2])\n",
    "# statistics = df.describe()\n",
    "# print(players[2][0] , ',', players[2][1])\n",
    "# statistics"
   ]
  },
  {
   "cell_type": "code",
   "execution_count": 171,
   "metadata": {},
   "outputs": [
    {
     "ename": "SyntaxError",
     "evalue": "subquery in FROM must have an alias\nLINE 7:         (\n                ^\nHINT:  For example, FROM (SELECT ...) [AS] foo.\n",
     "output_type": "error",
     "traceback": [
      "\u001b[1;31m---------------------------------------------------------------------------\u001b[0m",
      "\u001b[1;31mSyntaxError\u001b[0m                               Traceback (most recent call last)",
      "Cell \u001b[1;32mIn[171], line 28\u001b[0m\n\u001b[0;32m      1\u001b[0m query_1 \u001b[38;5;241m=\u001b[39m \u001b[38;5;124m'''\u001b[39m\n\u001b[0;32m      2\u001b[0m \u001b[38;5;124m    SELECT\u001b[39m\n\u001b[0;32m      3\u001b[0m \u001b[38;5;124m        count(turns.id) as number_of_turns,\u001b[39m\n\u001b[1;32m   (...)\u001b[0m\n\u001b[0;32m     14\u001b[0m \u001b[38;5;124m        turns.turn_type\u001b[39m\n\u001b[0;32m     15\u001b[0m \u001b[38;5;124m    \u001b[39m\u001b[38;5;124m'''\u001b[39m\n\u001b[0;32m     16\u001b[0m query_2 \u001b[38;5;241m=\u001b[39m \u001b[38;5;124m'''\u001b[39m\n\u001b[0;32m     17\u001b[0m \u001b[38;5;124m    SELECT\u001b[39m\n\u001b[0;32m     18\u001b[0m \u001b[38;5;124m        avg(number_of_turns),\u001b[39m\n\u001b[1;32m   (...)\u001b[0m\n\u001b[0;32m     25\u001b[0m \u001b[38;5;124m        type\u001b[39m\n\u001b[0;32m     26\u001b[0m \u001b[38;5;124m'''\u001b[39m\u001b[38;5;241m.\u001b[39mformat(query_1)\n\u001b[1;32m---> 28\u001b[0m data \u001b[38;5;241m=\u001b[39m \u001b[43mrun_query\u001b[49m\u001b[43m(\u001b[49m\n\u001b[0;32m     29\u001b[0m \u001b[43m    \u001b[49m\u001b[43mquery_2\u001b[49m\n\u001b[0;32m     30\u001b[0m \u001b[43m)\u001b[49m\n",
      "Cell \u001b[1;32mIn[152], line 11\u001b[0m, in \u001b[0;36mrun_query\u001b[1;34m(query, fetch)\u001b[0m\n\u001b[0;32m      8\u001b[0m \u001b[38;5;66;03m# Connect to DB and create a cursor\u001b[39;00m\n\u001b[0;32m      9\u001b[0m \u001b[38;5;66;03m# sqlite_connection = sqlite3.connect('db.sqlite3')\u001b[39;00m\n\u001b[0;32m     10\u001b[0m cursor \u001b[38;5;241m=\u001b[39m connection\u001b[38;5;241m.\u001b[39mcursor()\n\u001b[1;32m---> 11\u001b[0m \u001b[43mcursor\u001b[49m\u001b[38;5;241;43m.\u001b[39;49m\u001b[43mexecute\u001b[49m\u001b[43m(\u001b[49m\u001b[43mquery\u001b[49m\u001b[43m)\u001b[49m \n\u001b[0;32m     12\u001b[0m \u001b[38;5;66;03m# Fetch and output result\u001b[39;00m\n\u001b[0;32m     13\u001b[0m \u001b[38;5;28;01mif\u001b[39;00m fetch:\n",
      "\u001b[1;31mSyntaxError\u001b[0m: subquery in FROM must have an alias\nLINE 7:         (\n                ^\nHINT:  For example, FROM (SELECT ...) [AS] foo.\n"
     ]
    }
   ],
   "source": [
    "# query_1 = '''\n",
    "#     SELECT\n",
    "#         count(turns.id) as number_of_turns,\n",
    "#         turns.game_id as game_id,\n",
    "#         player.name as name,\n",
    "#         turns.turn_type as type\n",
    "#     FROM\n",
    "#         db_player as player\n",
    "#     JOIN \n",
    "#         db_turn as turns ON turns.player_id = player.id\n",
    "#     GROUP BY\n",
    "#         turns.game_id,\n",
    "#         turns.player_id,\n",
    "#         turns.turn_type\n",
    "#     '''\n",
    "# query_2 = '''\n",
    "#     SELECT\n",
    "#         avg(number_of_turns),\n",
    "#         name,\n",
    "#         type\n",
    "#     FROM\n",
    "#         ({})\n",
    "#     GROUP BY\n",
    "#         name,\n",
    "#         type\n",
    "# '''.format(query_1)\n",
    "\n",
    "# data = run_query(\n",
    "#     query_2\n",
    "# )\n",
    "\n"
   ]
  },
  {
   "cell_type": "code",
   "execution_count": null,
   "metadata": {},
   "outputs": [],
   "source": [
    "\n",
    "\"\"\"select name, count(game_id) from (SELECT\n",
    "        count(turns.id) as number_of_turns,\n",
    "        turns.game_id as game_id,\n",
    "        player.name as name,\n",
    "        turns.turn_type as type\n",
    "    FROM\n",
    "        db_player as player\n",
    "    JOIN \n",
    "        db_turn as turns ON turns.player_id = player.id\n",
    "    GROUP BY\n",
    "        turns.game_id,\n",
    "        turns.player_id,\n",
    "        turns.turn_type\n",
    "        ) where number_of_turns > 100 GROUP BY name\"\"\"\n"
   ]
  },
  {
   "cell_type": "code",
   "execution_count": 172,
   "metadata": {},
   "outputs": [],
   "source": [
    "import numpy as np\n",
    "import scipy.stats\n",
    "\n",
    "def mean_confidence_interval(data, confidence=0.95):\n",
    "    a = 1.0 * np.array(data)\n",
    "    n = len(a)\n",
    "    m, se = np.mean(a), scipy.stats.sem(a)\n",
    "    h = se * scipy.stats.t.ppf((1 + confidence) / 2., n-1)\n",
    "    return m, m-h, m+h\n",
    "\n"
   ]
  },
  {
   "cell_type": "code",
   "execution_count": 173,
   "metadata": {},
   "outputs": [],
   "source": [
    "from statistics import NormalDist\n",
    "\n",
    "def confidence_interval(data, confidence=0.95):\n",
    "  dist = NormalDist.from_samples(data)\n",
    "  z = NormalDist().inv_cdf((1 + confidence) / 2.)\n",
    "  h = dist.stdev * z / ((len(data) - 1) ** .5)\n",
    "  return dist.mean - h, dist.mean + h\n",
    "\n"
   ]
  },
  {
   "cell_type": "code",
   "execution_count": 174,
   "metadata": {},
   "outputs": [
    {
     "name": "stdout",
     "output_type": "stream",
     "text": [
      "name=NewBiggestFirst #players=1 mean=13.57800 low=13.30347 high=13.85253 size=1000\n",
      "name=NewBiggestFirst #players=2 mean=13.70400 low=13.55597 high=13.85203 size=4000\n",
      "name=NewBiggestFirst #players=3 mean=13.62067 low=13.50033 high=13.74100 size=6000\n",
      "name=Replacement     #players=1 mean=13.59600 low=13.24921 high=13.94279 size=1000\n",
      "name=Replacement     #players=2 mean=13.88450 low=13.66328 high=14.10572 size=4000\n",
      "name=Replacement     #players=3 mean=14.43417 low=14.10429 high=14.76405 size=6000\n",
      "name=Tunnels         #players=1 mean=14.15500 low=13.88758 high=14.42242 size=1000\n",
      "name=Tunnels         #players=2 mean=14.23375 low=14.09290 high=14.37460 size=4000\n",
      "name=Tunnels         #players=3 mean=14.14433 low=14.03259 high=14.25608 size=6000\n"
     ]
    }
   ],
   "source": [
    "for player in players:\n",
    "    name, numplayers = player\n",
    "    df = get_df()\n",
    "    df1 = df[(df['name'] == name) & (df['numplayers'] == numplayers)] # df.query(f'name == \"{name}\"').query(f'numplayers == {numplayers}')    \n",
    "    mean, low, high = mean_confidence_interval(df1['numturns'])\n",
    "    print(f'name={ name:15} #players={ numplayers } mean={ float(mean):5.5f} low={ float(low):5.5f} high={ float(high):5.5f} size={ len(df1.index):4d}')"
   ]
  },
  {
   "cell_type": "code",
   "execution_count": 178,
   "metadata": {},
   "outputs": [],
   "source": [
    "\n",
    "def ttest(player1, player2):\n",
    "    name1, numplayers1 = player1\n",
    "    name2, numplayers2 = player2\n",
    "    df = get_df()\n",
    "    df1 = df[(df['name'] == name1) & (df['numplayers'] == numplayers1)]\n",
    "    df2 = df[(df['name'] == name2) & (df['numplayers'] == numplayers2)]\n",
    "\n",
    "    r = scipy.stats.ttest_ind(df1['numturns'], df2['numturns'], equal_var=False)\n",
    "    print(f\"{name1}({numplayers1}) v {name2}({numplayers2}) {r.statistic}, {r.pvalue}\")"
   ]
  },
  {
   "cell_type": "code",
   "execution_count": 180,
   "metadata": {},
   "outputs": [
    {
     "name": "stdout",
     "output_type": "stream",
     "text": [
      "NewBiggestFirst(1) v Replacement(1) -0.0798609056271416, 0.9363563021989966\n",
      "NewBiggestFirst(1) v Tunnels(1) -2.9543925224098397, 0.0031695008998959256\n",
      "Replacement(1) v Tunnels(1) -2.5048996494021427, 0.012332781345289083\n"
     ]
    }
   ],
   "source": [
    "ttest(players[0], players[3])\n",
    "ttest(players[0], players[6])\n",
    "ttest(players[3], players[6])"
   ]
  },
  {
   "cell_type": "code",
   "execution_count": 184,
   "metadata": {},
   "outputs": [
    {
     "name": "stdout",
     "output_type": "stream",
     "text": [
      "NewBiggestFirst(2) v Replacement(2) -1.329476717398219, 0.18373417610553552\n",
      "NewBiggestFirst(2) v Tunnels(2) -5.082902536303163, 3.8015491056860035e-07\n",
      "Replacement(2) v Tunnels(2) -2.610942886109693, 0.009049165602673354\n"
     ]
    }
   ],
   "source": [
    "ttest(players[1+0], players[1+3])\n",
    "ttest(players[1+0], players[1+6])\n",
    "ttest(players[1+3], players[1+6])"
   ]
  },
  {
   "cell_type": "code",
   "execution_count": 185,
   "metadata": {},
   "outputs": [
    {
     "name": "stdout",
     "output_type": "stream",
     "text": [
      "NewBiggestFirst(3) v Replacement(3) -4.541628278344071, 5.668580428974369e-06\n",
      "NewBiggestFirst(3) v Tunnels(3) -6.251306784074625, 4.209169024537581e-10\n",
      "Replacement(3) v Tunnels(3) 1.6313260551273183, 0.1028643350661879\n"
     ]
    }
   ],
   "source": [
    "ttest(players[2+0], players[2+3])\n",
    "ttest(players[2+0], players[2+6])\n",
    "ttest(players[2+3], players[2+6])"
   ]
  },
  {
   "cell_type": "code",
   "execution_count": 181,
   "metadata": {},
   "outputs": [
    {
     "name": "stdout",
     "output_type": "stream",
     "text": [
      "NewBiggestFirst(1) v NewBiggestFirst(2) -0.792583985708352, 0.42813549606710233\n",
      "NewBiggestFirst(1) v NewBiggestFirst(3) -0.27928252957255284, 0.7800689139340321\n",
      "NewBiggestFirst(2) v NewBiggestFirst(3) 0.8563771996227454, 0.39181318913422547\n"
     ]
    }
   ],
   "source": [
    "ttest(players[0], players[1])\n",
    "ttest(players[0], players[2])\n",
    "ttest(players[1], players[2])"
   ]
  },
  {
   "cell_type": "code",
   "execution_count": 182,
   "metadata": {},
   "outputs": [
    {
     "name": "stdout",
     "output_type": "stream",
     "text": [
      "Replacement(1) v Replacement(2) -1.3759681973075635, 0.16899358495106598\n",
      "Replacement(1) v Replacement(3) -3.4348109028679916, 0.0006005244140772999\n",
      "Replacement(2) v Replacement(3) -2.7130207687704897, 0.006679092557523114\n"
     ]
    }
   ],
   "source": [
    "ttest(players[3+0], players[3+1])\n",
    "ttest(players[3+0], players[3+2])\n",
    "ttest(players[3+1], players[3+2])"
   ]
  },
  {
   "cell_type": "code",
   "execution_count": 183,
   "metadata": {},
   "outputs": [
    {
     "name": "stdout",
     "output_type": "stream",
     "text": [
      "Tunnels(1) v Tunnels(2) -0.511184609246501, 0.6092923017536984\n",
      "Tunnels(1) v Tunnels(3) 0.07220918697104146, 0.9424459574425295\n",
      "Tunnels(2) v Tunnels(3) 0.975011537250878, 0.32958261372459285\n"
     ]
    }
   ],
   "source": [
    "ttest(players[6+0], players[6+1])\n",
    "ttest(players[6+0], players[6+2])\n",
    "ttest(players[6+1], players[6+2])"
   ]
  },
  {
   "cell_type": "code",
   "execution_count": null,
   "metadata": {},
   "outputs": [],
   "source": [
    "'''\n",
    " * ( ) record computational time\n",
    " * ( ) Higher computational time will correlate with game performance (# turns to win)\n",
    " * ( ) Having the first turn will correlate with win %\n",
    " * ( ) Lower # cards drawn and immediately discarded will correlate with lower # turns to win (better game performance)\n",
    " * ( ) Higher # discards used will correlate with lower # turns to win (better game performance)\n",
    " * (✓) Replacement will outperform Tunnels which will outperform BiggestFirst\n",
    "'''"
   ]
  }
 ],
 "metadata": {
  "kernelspec": {
   "display_name": "SeniorResearchProject-LyMHUxkr",
   "language": "python",
   "name": "python3"
  },
  "language_info": {
   "codemirror_mode": {
    "name": "ipython",
    "version": 3
   },
   "file_extension": ".py",
   "mimetype": "text/x-python",
   "name": "python",
   "nbconvert_exporter": "python",
   "pygments_lexer": "ipython3",
   "version": "3.12.7"
  }
 },
 "nbformat": 4,
 "nbformat_minor": 2
}
