{
 "cells": [
  {
   "cell_type": "code",
   "execution_count": 42,
   "metadata": {},
   "outputs": [],
   "source": [
    "import sqlite3\n",
    " "
   ]
  },
  {
   "cell_type": "code",
   "execution_count": 43,
   "metadata": {},
   "outputs": [],
   "source": [
    "def run_query(query):\n",
    "    result = None\n",
    "    try:\n",
    "        # Connect to DB and create a cursor\n",
    "        sqlite_connection = sqlite3.connect('db.sqlite3')\n",
    "        cursor = sqlite_connection.cursor()\n",
    "        cursor.execute(query) \n",
    "        # Fetch and output result\n",
    "        result = cursor.fetchall()\n",
    "        # Close the cursor\n",
    "        cursor.close()\n",
    "        \n",
    "    # Handle errors\n",
    "    except sqlite3.Error as error:\n",
    "        print('Error occurred - ', error)\n",
    " \n",
    "    # Close DB Connection irrespective of success\n",
    "    # or failure\n",
    "    finally:\n",
    "        if sqlite_connection:\n",
    "            sqlite_connection.close()\n",
    "    return result"
   ]
  },
  {
   "cell_type": "code",
   "execution_count": 47,
   "metadata": {},
   "outputs": [
    {
     "data": {
      "text/plain": [
       "[(14.35, 'BiggestFirst'), (27.4555, 'Replacement'), (14.6405, 'Tunnels')]"
      ]
     },
     "execution_count": 47,
     "metadata": {},
     "output_type": "execute_result"
    }
   ],
   "source": [
    "query_1 = '''\n",
    "    SELECT\n",
    "        count(turns.id) as number_of_turns,\n",
    "        turns.game_id as game_id,\n",
    "        player.name as name\n",
    "    FROM\n",
    "        db_player as player\n",
    "    JOIN \n",
    "        db_turn as turns ON turns.player_id = player.id\n",
    "    GROUP BY\n",
    "        turns.game_id,\n",
    "        turns.player_id\n",
    "    '''\n",
    "query_2 = '''\n",
    "    SELECT\n",
    "        avg(number_of_turns),\n",
    "        name\n",
    "    FROM\n",
    "        ({})\n",
    "    GROUP BY\n",
    "        name\n",
    "'''.format(query_1)\n",
    "run_query(\n",
    "    query_2\n",
    ")"
   ]
  }
 ],
 "metadata": {
  "kernelspec": {
   "display_name": "Python 3",
   "language": "python",
   "name": "python3"
  },
  "language_info": {
   "codemirror_mode": {
    "name": "ipython",
    "version": 3
   },
   "file_extension": ".py",
   "mimetype": "text/x-python",
   "name": "python",
   "nbconvert_exporter": "python",
   "pygments_lexer": "ipython3",
   "version": "3.12.6"
  }
 },
 "nbformat": 4,
 "nbformat_minor": 2
}
