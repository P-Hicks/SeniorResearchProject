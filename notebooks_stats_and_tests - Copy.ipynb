{
 "cells": [
  {
   "cell_type": "code",
   "execution_count": null,
   "metadata": {},
   "outputs": [
    {
     "data": {
      "text/plain": [
       "'\\n * ( ) record computational time\\n * ( ) Higher computational time will correlate with game performance (# turns to win)\\n * (✓) Having the first turn will correlate with win %\\n * (✓) Lower # cards drawn and immediately discarded will correlate with lower # turns to win (better game performance)\\n * (✓) Higher # discards used will correlate with lower # turns to win (better game performance)\\n * (✓) Replacement will outperform Tunnels which will outperform BiggestFirst\\n\\n\\n1559 seconds elapsed - 2500 games per scenario \\n'"
      ]
     },
     "execution_count": 1,
     "metadata": {},
     "output_type": "execute_result"
    }
   ],
   "source": [
    "'''\n",
    " * ( ) record computational time\n",
    " * (✓) Higher computational time will correlate with game performance (# turns to win)\n",
    " * (✓) Having the first turn will correlate with win %\n",
    " * (✓) Lower # cards drawn and immediately discarded will correlate with lower # turns to win (better game performance)\n",
    " * (✓) Higher # discards used will correlate with lower # turns to win (better game performance)\n",
    " * (✓) Replacement will outperform Tunnels which will outperform BiggestFirst\n",
    "\n",
    "\n",
    "1559 seconds elapsed - 2500 games per scenario \n",
    "'''"
   ]
  },
  {
   "cell_type": "code",
   "execution_count": 2,
   "metadata": {},
   "outputs": [],
   "source": [
    "import sqlite3\n",
    "\n",
    "# from main import setup1, setup2\n",
    "\n",
    "# setup1()\n",
    "# setup2()\n",
    "\n",
    "# from django.db import connection \n",
    "\n",
    "import psycopg2"
   ]
  },
  {
   "cell_type": "code",
   "execution_count": null,
   "metadata": {},
   "outputs": [],
   "source": []
  },
  {
   "cell_type": "code",
   "execution_count": 3,
   "metadata": {},
   "outputs": [],
   "source": [
    "from notebook_utils.queries import run_query, run_query_file"
   ]
  },
  {
   "cell_type": "code",
   "execution_count": 4,
   "metadata": {},
   "outputs": [],
   "source": [
    "run_query_file(\n",
    "    'sql_queries/views/games_with_numplayers.sql',\n",
    "    fetch=False\n",
    ")\n",
    "run_query_file(\n",
    "    'sql_queries/views/player_with_numturns.sql',\n",
    "    fetch=False\n",
    ")\n",
    "run_query_file(\n",
    "    'sql_queries/views/player_game_pair.sql',\n",
    "    fetch=False\n",
    ")\n",
    "run_query_file(\n",
    "    'sql_queries/views/game_with_winning_player_v1.sql',\n",
    "    fetch=False\n",
    ")\n",
    "run_query_file(\n",
    "    'sql_queries/views/games_with_numplayers.sql',\n",
    "    fetch=False\n",
    ")\n",
    "run_query_file(\n",
    "    'sql_queries/views/player_game_stats.sql',\n",
    "    fetch=False\n",
    ")\n",
    "run_query_file(\n",
    "    'sql_queries/views/player_game_stats_out.sql',\n",
    "    fetch=False\n",
    ")"
   ]
  },
  {
   "cell_type": "code",
   "execution_count": 5,
   "metadata": {},
   "outputs": [
    {
     "name": "stdout",
     "output_type": "stream",
     "text": [
      "name, numplayers, avg(number_of_turns), stddev (number_of_turns), variance (number_of_turns), min(number_of_turns), max(number_of_turns)\n",
      "NewBiggestFirst, 1, 13.6060000000000000, 4.3646745759175981, 19.0503841536614646, 4, 43\n",
      "NewBiggestFirst, 2, 13.5536000000000000, 4.5778622436976221, 20.9568227222722272, 4, 67\n",
      "NewBiggestFirst, 3, 13.5537333333333333, 4.6948676425469431, 22.0417821810342912, 2, 112\n",
      "Replacement, 1, 13.7320000000000000, 5.7286388366843713, 32.8173029211684674, 4, 90\n",
      "Replacement, 2, 14.0606000000000000, 8.9347809526069024, 79.8303106710671067, 4, 306\n",
      "Replacement, 3, 14.5298000000000000, 14.0464704528271257, 197.3033321821454764, 2, 845\n",
      "Tunnels, 1, 14.0240000000000000, 4.3210754074733327, 18.6716926770708283, 5, 46\n",
      "Tunnels, 2, 14.1084000000000000, 4.4066757674160591, 19.4187913191319132, 4, 43\n",
      "Tunnels, 3, 14.1327333333333333, 4.4283355645901237, 19.6101558726137298, 2, 48\n"
     ]
    }
   ],
   "source": [
    "\n",
    "rows = run_query_file(\n",
    "    'sql_queries/averages.sql'\n",
    ")\n",
    "\n",
    "print(\"name, numplayers, avg(number_of_turns), stddev (number_of_turns), variance (number_of_turns), min(number_of_turns), max(number_of_turns)\")\n",
    "for row in rows:\n",
    "    print(\", \".join([str(i) for i in row]))\n"
   ]
  },
  {
   "cell_type": "code",
   "execution_count": 6,
   "metadata": {},
   "outputs": [
    {
     "name": "stdout",
     "output_type": "stream",
     "text": [
      "[('NewBiggestFirst', 1), ('NewBiggestFirst', 2), ('NewBiggestFirst', 3), ('Replacement', 1), ('Replacement', 2), ('Replacement', 3), ('Tunnels', 1), ('Tunnels', 2), ('Tunnels', 3)]\n",
      "9 number of players\n"
     ]
    }
   ],
   "source": [
    "import matplotlib.pyplot as plt \n",
    "import numpy as np\n",
    "\n",
    "query_1 = '''\n",
    "    SELECT\n",
    "        name, numplayers\n",
    "    FROM\n",
    "        player_game_pair\n",
    "    GROUP BY\n",
    "        name, numplayers\n",
    "    ORDER BY\n",
    "        name, numplayers\n",
    "    '''\n",
    "\n",
    "players = run_query(\n",
    "    query_1\n",
    ")\n",
    "print(players)\n",
    "print(f\"{len(players)} number of players\")\n",
    "def make_graph_for(player, ax, mx = 100):\n",
    "    name, numplayers = player\n",
    "    query_1 = '''\n",
    "        SELECT\n",
    "            number_of_turns\n",
    "        FROM\n",
    "            player_with_numturns\n",
    "        WHERE name = '{}' AND numplayers = {}        \n",
    "        \n",
    "        '''.format(name, numplayers)\n",
    "\n",
    "    data= run_query(\n",
    "        query_1\n",
    "    )\n",
    "    data = [i[0] for i in data]\n",
    "    # Define the bin edges for groups of 5\n",
    "    bin_size = 2\n",
    "    # mx = max(data)\n",
    "    # mx = 100\n",
    "    bin_edges = range(0, mx + bin_size, bin_size)\n",
    "\n",
    "    # Create histogram\n",
    "    ax.hist(data, bins=bin_edges, edgecolor='black')\n",
    "\n",
    "    # Add titles and labels\n",
    "    ax.set_title(f'{name}, {numplayers} players')\n",
    "    \n",
    "    # ax.xlabel('Value Range')\n",
    "    # ax.ylabel('Frequency')\n",
    "\n"
   ]
  },
  {
   "cell_type": "code",
   "execution_count": 10,
   "metadata": {},
   "outputs": [],
   "source": [
    "\n",
    "\n",
    "# def make_graph_for(player):\n",
    "#     name, numplayers = player\n",
    "#     query_1 = '''\n",
    "#         SELECT\n",
    "#             number_of_turns\n",
    "#         FROM\n",
    "#             player_with_numturns\n",
    "#         WHERE name = '{}' AND numplayers = {}        \n",
    "        \n",
    "#         '''.format(name, numplayers)\n",
    "#     data= run_query(\n",
    "#         query_1\n",
    "#     )\n",
    "    \n",
    "#     data = [i[0] for i in data]\n",
    "#     bin_size = 2\n",
    "#     mx = max(data)\n",
    "#     mx = 100\n",
    "#     bin_edges = range(0, mx + bin_size, bin_size)\n",
    "\n",
    "#     # Create histogram\n",
    "#     plt.hist(data, bins=bin_edges, edgecolor='black', histtype='step')\n",
    "# plt.title(players[0][0])\n",
    "# make_graph_for(players[0])\n",
    "# make_graph_for(players[1])\n",
    "# make_graph_for(players[2])\n",
    "# plt.show()"
   ]
  },
  {
   "cell_type": "code",
   "execution_count": 11,
   "metadata": {},
   "outputs": [],
   "source": [
    "# plt.title(players[3][0])\n",
    "# make_graph_for(players[3])\n",
    "# make_graph_for(players[4])\n",
    "# make_graph_for(players[5])\n",
    "# plt.show()"
   ]
  },
  {
   "cell_type": "code",
   "execution_count": 12,
   "metadata": {},
   "outputs": [],
   "source": [
    "# plt.title(players[6][0])\n",
    "# make_graph_for(players[6])\n",
    "# make_graph_for(players[7])\n",
    "# make_graph_for(players[8])\n",
    "# plt.show()"
   ]
  },
  {
   "cell_type": "code",
   "execution_count": 13,
   "metadata": {},
   "outputs": [],
   "source": [
    "from notebook_utils.dataframes import get_df\n",
    "\n"
   ]
  },
  {
   "cell_type": "code",
   "execution_count": 14,
   "metadata": {},
   "outputs": [
    {
     "data": {
      "text/html": [
       "<div>\n",
       "<style scoped>\n",
       "    .dataframe tbody tr th:only-of-type {\n",
       "        vertical-align: middle;\n",
       "    }\n",
       "\n",
       "    .dataframe tbody tr th {\n",
       "        vertical-align: top;\n",
       "    }\n",
       "\n",
       "    .dataframe thead tr th {\n",
       "        text-align: left;\n",
       "    }\n",
       "\n",
       "    .dataframe thead tr:last-of-type th {\n",
       "        text-align: right;\n",
       "    }\n",
       "</style>\n",
       "<table border=\"1\" class=\"dataframe\">\n",
       "  <thead>\n",
       "    <tr>\n",
       "      <th></th>\n",
       "      <th></th>\n",
       "      <th colspan=\"8\" halign=\"left\">numturns</th>\n",
       "    </tr>\n",
       "    <tr>\n",
       "      <th></th>\n",
       "      <th></th>\n",
       "      <th>count</th>\n",
       "      <th>mean</th>\n",
       "      <th>std</th>\n",
       "      <th>min</th>\n",
       "      <th>25%</th>\n",
       "      <th>50%</th>\n",
       "      <th>75%</th>\n",
       "      <th>max</th>\n",
       "    </tr>\n",
       "    <tr>\n",
       "      <th>name</th>\n",
       "      <th>numplayers</th>\n",
       "      <th></th>\n",
       "      <th></th>\n",
       "      <th></th>\n",
       "      <th></th>\n",
       "      <th></th>\n",
       "      <th></th>\n",
       "      <th></th>\n",
       "      <th></th>\n",
       "    </tr>\n",
       "  </thead>\n",
       "  <tbody>\n",
       "    <tr>\n",
       "      <th rowspan=\"3\" valign=\"top\">NewBiggestFirst</th>\n",
       "      <th>1</th>\n",
       "      <td>2500.0</td>\n",
       "      <td>13.606000</td>\n",
       "      <td>4.364675</td>\n",
       "      <td>4.0</td>\n",
       "      <td>11.0</td>\n",
       "      <td>13.0</td>\n",
       "      <td>15.0</td>\n",
       "      <td>43.0</td>\n",
       "    </tr>\n",
       "    <tr>\n",
       "      <th>2</th>\n",
       "      <td>10000.0</td>\n",
       "      <td>13.553600</td>\n",
       "      <td>4.577862</td>\n",
       "      <td>4.0</td>\n",
       "      <td>11.0</td>\n",
       "      <td>13.0</td>\n",
       "      <td>15.0</td>\n",
       "      <td>67.0</td>\n",
       "    </tr>\n",
       "    <tr>\n",
       "      <th>3</th>\n",
       "      <td>15000.0</td>\n",
       "      <td>13.553733</td>\n",
       "      <td>4.694868</td>\n",
       "      <td>2.0</td>\n",
       "      <td>11.0</td>\n",
       "      <td>13.0</td>\n",
       "      <td>15.0</td>\n",
       "      <td>112.0</td>\n",
       "    </tr>\n",
       "    <tr>\n",
       "      <th rowspan=\"3\" valign=\"top\">Replacement</th>\n",
       "      <th>1</th>\n",
       "      <td>2500.0</td>\n",
       "      <td>13.732000</td>\n",
       "      <td>5.728639</td>\n",
       "      <td>4.0</td>\n",
       "      <td>11.0</td>\n",
       "      <td>13.0</td>\n",
       "      <td>15.0</td>\n",
       "      <td>90.0</td>\n",
       "    </tr>\n",
       "    <tr>\n",
       "      <th>2</th>\n",
       "      <td>10000.0</td>\n",
       "      <td>14.060600</td>\n",
       "      <td>8.934781</td>\n",
       "      <td>4.0</td>\n",
       "      <td>10.0</td>\n",
       "      <td>13.0</td>\n",
       "      <td>16.0</td>\n",
       "      <td>306.0</td>\n",
       "    </tr>\n",
       "    <tr>\n",
       "      <th>3</th>\n",
       "      <td>15000.0</td>\n",
       "      <td>14.529800</td>\n",
       "      <td>14.046470</td>\n",
       "      <td>2.0</td>\n",
       "      <td>10.0</td>\n",
       "      <td>13.0</td>\n",
       "      <td>15.0</td>\n",
       "      <td>845.0</td>\n",
       "    </tr>\n",
       "    <tr>\n",
       "      <th rowspan=\"3\" valign=\"top\">Tunnels</th>\n",
       "      <th>1</th>\n",
       "      <td>2500.0</td>\n",
       "      <td>14.024000</td>\n",
       "      <td>4.321075</td>\n",
       "      <td>5.0</td>\n",
       "      <td>11.0</td>\n",
       "      <td>13.0</td>\n",
       "      <td>16.0</td>\n",
       "      <td>46.0</td>\n",
       "    </tr>\n",
       "    <tr>\n",
       "      <th>2</th>\n",
       "      <td>10000.0</td>\n",
       "      <td>14.108400</td>\n",
       "      <td>4.406676</td>\n",
       "      <td>4.0</td>\n",
       "      <td>11.0</td>\n",
       "      <td>13.0</td>\n",
       "      <td>16.0</td>\n",
       "      <td>43.0</td>\n",
       "    </tr>\n",
       "    <tr>\n",
       "      <th>3</th>\n",
       "      <td>15000.0</td>\n",
       "      <td>14.132733</td>\n",
       "      <td>4.428336</td>\n",
       "      <td>2.0</td>\n",
       "      <td>11.0</td>\n",
       "      <td>13.0</td>\n",
       "      <td>16.0</td>\n",
       "      <td>48.0</td>\n",
       "    </tr>\n",
       "  </tbody>\n",
       "</table>\n",
       "</div>"
      ],
      "text/plain": [
       "                           numturns                                         \\\n",
       "                              count       mean        std  min   25%   50%   \n",
       "name            numplayers                                                   \n",
       "NewBiggestFirst 1            2500.0  13.606000   4.364675  4.0  11.0  13.0   \n",
       "                2           10000.0  13.553600   4.577862  4.0  11.0  13.0   \n",
       "                3           15000.0  13.553733   4.694868  2.0  11.0  13.0   \n",
       "Replacement     1            2500.0  13.732000   5.728639  4.0  11.0  13.0   \n",
       "                2           10000.0  14.060600   8.934781  4.0  10.0  13.0   \n",
       "                3           15000.0  14.529800  14.046470  2.0  10.0  13.0   \n",
       "Tunnels         1            2500.0  14.024000   4.321075  5.0  11.0  13.0   \n",
       "                2           10000.0  14.108400   4.406676  4.0  11.0  13.0   \n",
       "                3           15000.0  14.132733   4.428336  2.0  11.0  13.0   \n",
       "\n",
       "                                         \n",
       "                             75%    max  \n",
       "name            numplayers               \n",
       "NewBiggestFirst 1           15.0   43.0  \n",
       "                2           15.0   67.0  \n",
       "                3           15.0  112.0  \n",
       "Replacement     1           15.0   90.0  \n",
       "                2           16.0  306.0  \n",
       "                3           15.0  845.0  \n",
       "Tunnels         1           16.0   46.0  \n",
       "                2           16.0   43.0  \n",
       "                3           16.0   48.0  "
      ]
     },
     "execution_count": 14,
     "metadata": {},
     "output_type": "execute_result"
    }
   ],
   "source": [
    "\n",
    "# Get summary statistics\n",
    "df = get_df()\n",
    "statistics = df.groupby(['name', 'numplayers']).describe()\n",
    "statistics"
   ]
  },
  {
   "cell_type": "code",
   "execution_count": 15,
   "metadata": {},
   "outputs": [],
   "source": [
    "\n",
    "\n",
    "\n",
    "\n",
    "\n",
    "\n",
    "\n",
    "\n",
    "# # Get summary statistics\n",
    "# df = get_df(players[1])\n",
    "# statistics = df.describe()\n",
    "# print(players[1][0] , ',', players[1][1])\n",
    "# statistics"
   ]
  },
  {
   "cell_type": "code",
   "execution_count": 16,
   "metadata": {},
   "outputs": [],
   "source": [
    "\n",
    "\n",
    "# # Get summary statistics\n",
    "# df = get_df(players[2])\n",
    "# statistics = df.describe()\n",
    "# print(players[2][0] , ',', players[2][1])\n",
    "# statistics"
   ]
  },
  {
   "cell_type": "code",
   "execution_count": 17,
   "metadata": {},
   "outputs": [],
   "source": [
    "# query_1 = '''\n",
    "#     SELECT\n",
    "#         count(turns.id) as number_of_turns,\n",
    "#         turns.game_id as game_id,\n",
    "#         player.name as name,\n",
    "#         turns.turn_type as type\n",
    "#     FROM\n",
    "#         db_player as player\n",
    "#     JOIN \n",
    "#         db_turn as turns ON turns.player_id = player.id\n",
    "#     GROUP BY\n",
    "#         turns.game_id,\n",
    "#         turns.player_id,\n",
    "#         turns.turn_type\n",
    "#     '''\n",
    "# query_2 = '''\n",
    "#     SELECT\n",
    "#         avg(number_of_turns),\n",
    "#         name,\n",
    "#         type\n",
    "#     FROM\n",
    "#         ({})\n",
    "#     GROUP BY\n",
    "#         name,\n",
    "#         type\n",
    "# '''.format(query_1)\n",
    "\n",
    "# data = run_query(\n",
    "#     query_2\n",
    "# )\n",
    "\n"
   ]
  },
  {
   "cell_type": "code",
   "execution_count": 18,
   "metadata": {},
   "outputs": [
    {
     "data": {
      "text/plain": [
       "'select name, count(game_id) from (SELECT\\n        count(turns.id) as number_of_turns,\\n        turns.game_id as game_id,\\n        player.name as name,\\n        turns.turn_type as type\\n    FROM\\n        db_player as player\\n    JOIN \\n        db_turn as turns ON turns.player_id = player.id\\n    GROUP BY\\n        turns.game_id,\\n        turns.player_id,\\n        turns.turn_type\\n        ) where number_of_turns > 100 GROUP BY name'"
      ]
     },
     "execution_count": 18,
     "metadata": {},
     "output_type": "execute_result"
    }
   ],
   "source": [
    "\n",
    "\"\"\"select name, count(game_id) from (SELECT\n",
    "        count(turns.id) as number_of_turns,\n",
    "        turns.game_id as game_id,\n",
    "        player.name as name,\n",
    "        turns.turn_type as type\n",
    "    FROM\n",
    "        db_player as player\n",
    "    JOIN \n",
    "        db_turn as turns ON turns.player_id = player.id\n",
    "    GROUP BY\n",
    "        turns.game_id,\n",
    "        turns.player_id,\n",
    "        turns.turn_type\n",
    "        ) where number_of_turns > 100 GROUP BY name\"\"\"\n"
   ]
  },
  {
   "cell_type": "code",
   "execution_count": 19,
   "metadata": {},
   "outputs": [],
   "source": [
    "import numpy as np\n",
    "import scipy.stats\n",
    "\n",
    "def mean_confidence_interval(data, confidence=0.95):\n",
    "    a = 1.0 * np.array(data)\n",
    "    n = len(a)\n",
    "    m, se = np.mean(a), scipy.stats.sem(a)\n",
    "    h = se * scipy.stats.t.ppf((1 + confidence) / 2., n-1)\n",
    "    return m, m-h, m+h\n",
    "\n"
   ]
  },
  {
   "cell_type": "code",
   "execution_count": 20,
   "metadata": {},
   "outputs": [],
   "source": [
    "from statistics import NormalDist\n",
    "\n",
    "def confidence_interval(data, confidence=0.95):\n",
    "  dist = NormalDist.from_samples(data)\n",
    "  z = NormalDist().inv_cdf((1 + confidence) / 2.)\n",
    "  h = dist.stdev * z / ((len(data) - 1) ** .5)\n",
    "  return dist.mean - h, dist.mean + h\n",
    "\n"
   ]
  },
  {
   "cell_type": "code",
   "execution_count": 21,
   "metadata": {},
   "outputs": [
    {
     "name": "stdout",
     "output_type": "stream",
     "text": [
      "name,#players,mean,low,high,size,\n",
      "NewBiggestFirst,1,13.60600,13.43482,13.77718,2500\n",
      "NewBiggestFirst,2,13.55360,13.46386,13.64334,10000\n",
      "NewBiggestFirst,3,13.55373,13.47860,13.62887,15000\n",
      "Replacement    ,1,13.73200,13.50733,13.95667,2500\n",
      "Replacement    ,2,14.06060,13.88546,14.23574,10000\n",
      "Replacement    ,3,14.52980,14.30500,14.75460,15000\n",
      "Tunnels        ,1,14.02400,13.85453,14.19347,2500\n",
      "Tunnels        ,2,14.10840,14.02202,14.19478,10000\n",
      "Tunnels        ,3,14.13273,14.06186,14.20361,15000\n"
     ]
    }
   ],
   "source": [
    "\n",
    "print(f'name,#players,mean,low,high,size,')\n",
    "for player in players:\n",
    "    name, numplayers = player\n",
    "    df = get_df()\n",
    "    df1 = df[(df['name'] == name) & (df['numplayers'] == numplayers)] # df.query(f'name == \"{name}\"').query(f'numplayers == {numplayers}')    \n",
    "    mean, low, high = mean_confidence_interval(df1['numturns'])\n",
    "    \n",
    "    print(f'{ name:15},{ numplayers },{ float(mean):5.5f},{ float(low):5.5f},{ float(high):5.5f},{ len(df1.index):4d}')\n",
    "    # print(f'name={ name:15} #players={ numplayers } mean={ float(mean):5.5f} low={ float(low):5.5f} high={ float(high):5.5f} size={ len(df1.index):4d}')"
   ]
  },
  {
   "cell_type": "code",
   "execution_count": 22,
   "metadata": {},
   "outputs": [],
   "source": [
    "\n",
    "def ttest(player1, player2):\n",
    "    name1, numplayers1 = player1\n",
    "    name2, numplayers2 = player2\n",
    "    df = get_df()\n",
    "    df1 = df[(df['name'] == name1) & (df['numplayers'] == numplayers1)]\n",
    "    df2 = df[(df['name'] == name2) & (df['numplayers'] == numplayers2)]\n",
    "\n",
    "    r = scipy.stats.ttest_ind(df1['numturns'], df2['numturns'], equal_var=False)\n",
    "    print(f\"{name1}({numplayers1}) v {name2}({numplayers2}) p={r.pvalue} (rstat={r.statistic})\")"
   ]
  },
  {
   "cell_type": "code",
   "execution_count": 50,
   "metadata": {},
   "outputs": [
    {
     "name": "stdout",
     "output_type": "stream",
     "text": [
      "Anova: 1 players\n",
      "F-statistic: 4.888475078925091\n",
      "P-value: 0.007556929812887649\n",
      "Anova: 2 players\n",
      "F-statistic: 23.59022158668857\n",
      "P-value: 5.7935591754948083e-11\n",
      "Anova: 3 players\n",
      "F-statistic: 45.37279322597933\n",
      "P-value: 2.0639031847487552e-20\n"
     ]
    }
   ],
   "source": [
    "for n in [1, 2, 3]:\n",
    "    df = get_df()\n",
    "    df = df[df['numplayers'] == n]\n",
    "    _df1 = df[(df['name'] == 'NewBiggestFirst')]\n",
    "    _df2 = df[(df['name'] == 'Tunnels')]\n",
    "    _df3 = df[(df['name'] == 'Replacement')]\n",
    "    # Perform one-way ANOVA\n",
    "    f_statistic, p_value = scipy.stats.f_oneway(\n",
    "        _df1['numturns'],\n",
    "        _df2['numturns'],\n",
    "        _df3['numturns'],\n",
    "    )\n",
    "    print(f'Anova: {n} players')\n",
    "    print(\"F-statistic:\", f_statistic)\n",
    "    print(\"P-value:\", p_value)"
   ]
  },
  {
   "cell_type": "code",
   "execution_count": 52,
   "metadata": {},
   "outputs": [
    {
     "name": "stdout",
     "output_type": "stream",
     "text": [
      "Anova: NewBiggestFirst players\n",
      "F-statistic: 0.14552793448642426\n",
      "P-value: 0.8645664044286042\n",
      "Anova: Tunnels players\n",
      "F-statistic: 0.6637701736708546\n",
      "P-value: 0.5149146341732522\n",
      "Anova: Replacement players\n",
      "F-statistic: 7.759094292802188\n",
      "P-value: 0.000427778227131076\n"
     ]
    }
   ],
   "source": [
    "for n in ['NewBiggestFirst','Tunnels','Replacement']:\n",
    "    df = get_df()\n",
    "    df = df[df['name'] == n]\n",
    "    _df1 = df[(df['numplayers'] == 1)]\n",
    "    _df2 = df[(df['numplayers'] == 2)]\n",
    "    _df3 = df[(df['numplayers'] == 3)]\n",
    "    # Perform one-way ANOVA\n",
    "    f_statistic, p_value = scipy.stats.f_oneway(\n",
    "        _df1['numturns'],\n",
    "        _df2['numturns'],\n",
    "        _df3['numturns'],\n",
    "    )\n",
    "    print(f'Anova: {n} players')\n",
    "    print(\"F-statistic:\", f_statistic)\n",
    "    print(\"P-value:\", p_value)"
   ]
  },
  {
   "cell_type": "code",
   "execution_count": 23,
   "metadata": {},
   "outputs": [
    {
     "name": "stdout",
     "output_type": "stream",
     "text": [
      "NewBiggestFirst(1) v Replacement(1) p=0.3817460002075228 (rstat=-0.8747664304531065)\n",
      "NewBiggestFirst(1) v Tunnels(1) p=0.0006719985617594962 (rstat=-3.402894528227609)\n",
      "Replacement(1) v Tunnels(1) p=0.041939956142999404 (rstat=-2.034677795985225)\n"
     ]
    }
   ],
   "source": [
    "ttest(players[0], players[3])\n",
    "ttest(players[0], players[6])\n",
    "ttest(players[3], players[6])"
   ]
  },
  {
   "cell_type": "code",
   "execution_count": 24,
   "metadata": {},
   "outputs": [
    {
     "name": "stdout",
     "output_type": "stream",
     "text": [
      "NewBiggestFirst(2) v Replacement(2) p=4.46643763207784e-07 (rstat=-5.050163198530697)\n",
      "NewBiggestFirst(2) v Tunnels(2) p=2.713238904851738e-18 (rstat=-8.73125922441329)\n",
      "Replacement(2) v Tunnels(2) p=0.631373378976926 (rstat=-0.47980481687818094)\n"
     ]
    }
   ],
   "source": [
    "ttest(players[1+0], players[1+3])\n",
    "ttest(players[1+0], players[1+6])\n",
    "ttest(players[1+3], players[1+6])"
   ]
  },
  {
   "cell_type": "code",
   "execution_count": 25,
   "metadata": {},
   "outputs": [
    {
     "name": "stdout",
     "output_type": "stream",
     "text": [
      "NewBiggestFirst(3) v Replacement(3) p=7.362597536238864e-16 (rstat=-8.071627817068523)\n",
      "NewBiggestFirst(3) v Tunnels(3) p=4.955730300230546e-28 (rstat=-10.987694765123196)\n",
      "Replacement(3) v Tunnels(3) p=0.0009621493360385552 (rstat=3.301914173941292)\n"
     ]
    }
   ],
   "source": [
    "ttest(players[2+0], players[2+3])\n",
    "ttest(players[2+0], players[2+6])\n",
    "ttest(players[2+3], players[2+6])"
   ]
  },
  {
   "cell_type": "code",
   "execution_count": 26,
   "metadata": {},
   "outputs": [
    {
     "name": "stdout",
     "output_type": "stream",
     "text": [
      "NewBiggestFirst(1) v NewBiggestFirst(2) p=0.5950273984091836 (rstat=0.5316076240384603)\n",
      "NewBiggestFirst(1) v NewBiggestFirst(3) p=0.5835777291053357 (rstat=0.5482167225679361)\n",
      "NewBiggestFirst(2) v NewBiggestFirst(3) p=0.9982182962219365 (rstat=-0.0022330620048334466)\n"
     ]
    }
   ],
   "source": [
    "ttest(players[0], players[1])\n",
    "ttest(players[0], players[2])\n",
    "ttest(players[1], players[2])"
   ]
  },
  {
   "cell_type": "code",
   "execution_count": 27,
   "metadata": {},
   "outputs": [
    {
     "name": "stdout",
     "output_type": "stream",
     "text": [
      "Replacement(1) v Replacement(2) p=0.023755653517903316 (rstat=-2.2616423807643913)\n",
      "Replacement(1) v Replacement(3) p=8.758394849269152e-07 (rstat=-4.921272496792149)\n",
      "Replacement(2) v Replacement(3) p=0.0012512165778032851 (rstat=-3.227309209826317)\n"
     ]
    }
   ],
   "source": [
    "ttest(players[3+0], players[3+1])\n",
    "ttest(players[3+0], players[3+2])\n",
    "ttest(players[3+1], players[3+2])"
   ]
  },
  {
   "cell_type": "code",
   "execution_count": 28,
   "metadata": {},
   "outputs": [
    {
     "name": "stdout",
     "output_type": "stream",
     "text": [
      "Tunnels(1) v Tunnels(2) p=0.38433690707681767 (rstat=-0.8700311463027074)\n",
      "Tunnels(1) v Tunnels(3) p=0.2458512649999544 (rstat=-1.1606836857180272)\n",
      "Tunnels(2) v Tunnels(3) p=0.6694666782901156 (rstat=-0.42688594447757866)\n"
     ]
    }
   ],
   "source": [
    "ttest(players[6+0], players[6+1])\n",
    "ttest(players[6+0], players[6+2])\n",
    "ttest(players[6+1], players[6+2])"
   ]
  },
  {
   "cell_type": "code",
   "execution_count": null,
   "metadata": {},
   "outputs": [],
   "source": []
  },
  {
   "cell_type": "code",
   "execution_count": 29,
   "metadata": {},
   "outputs": [],
   "source": [
    "from notebook_utils.dataframes import get_stats_df\n",
    "import pandas as pd\n"
   ]
  },
  {
   "cell_type": "code",
   "execution_count": 30,
   "metadata": {},
   "outputs": [
    {
     "data": {
      "text/html": [
       "<div>\n",
       "<style scoped>\n",
       "    .dataframe tbody tr th:only-of-type {\n",
       "        vertical-align: middle;\n",
       "    }\n",
       "\n",
       "    .dataframe tbody tr th {\n",
       "        vertical-align: top;\n",
       "    }\n",
       "\n",
       "    .dataframe thead tr th {\n",
       "        text-align: left;\n",
       "    }\n",
       "\n",
       "    .dataframe thead tr:last-of-type th {\n",
       "        text-align: right;\n",
       "    }\n",
       "</style>\n",
       "<table border=\"1\" class=\"dataframe\">\n",
       "  <thead>\n",
       "    <tr>\n",
       "      <th></th>\n",
       "      <th colspan=\"8\" halign=\"left\">numturns</th>\n",
       "      <th colspan=\"2\" halign=\"left\">numdiscards</th>\n",
       "      <th>...</th>\n",
       "      <th colspan=\"2\" halign=\"left\">percentnones</th>\n",
       "      <th colspan=\"8\" halign=\"left\">avgcomputationaltime</th>\n",
       "    </tr>\n",
       "    <tr>\n",
       "      <th></th>\n",
       "      <th>count</th>\n",
       "      <th>mean</th>\n",
       "      <th>std</th>\n",
       "      <th>min</th>\n",
       "      <th>25%</th>\n",
       "      <th>50%</th>\n",
       "      <th>75%</th>\n",
       "      <th>max</th>\n",
       "      <th>count</th>\n",
       "      <th>mean</th>\n",
       "      <th>...</th>\n",
       "      <th>75%</th>\n",
       "      <th>max</th>\n",
       "      <th>count</th>\n",
       "      <th>mean</th>\n",
       "      <th>std</th>\n",
       "      <th>min</th>\n",
       "      <th>25%</th>\n",
       "      <th>50%</th>\n",
       "      <th>75%</th>\n",
       "      <th>max</th>\n",
       "    </tr>\n",
       "    <tr>\n",
       "      <th>name</th>\n",
       "      <th></th>\n",
       "      <th></th>\n",
       "      <th></th>\n",
       "      <th></th>\n",
       "      <th></th>\n",
       "      <th></th>\n",
       "      <th></th>\n",
       "      <th></th>\n",
       "      <th></th>\n",
       "      <th></th>\n",
       "      <th></th>\n",
       "      <th></th>\n",
       "      <th></th>\n",
       "      <th></th>\n",
       "      <th></th>\n",
       "      <th></th>\n",
       "      <th></th>\n",
       "      <th></th>\n",
       "      <th></th>\n",
       "      <th></th>\n",
       "      <th></th>\n",
       "    </tr>\n",
       "  </thead>\n",
       "  <tbody>\n",
       "    <tr>\n",
       "      <th>NewBiggestFirst</th>\n",
       "      <td>27500.0</td>\n",
       "      <td>13.558436</td>\n",
       "      <td>4.623208</td>\n",
       "      <td>2.0</td>\n",
       "      <td>11.0</td>\n",
       "      <td>13.0</td>\n",
       "      <td>15.0</td>\n",
       "      <td>112.0</td>\n",
       "      <td>27500.0</td>\n",
       "      <td>5.723745</td>\n",
       "      <td>...</td>\n",
       "      <td>0.000000</td>\n",
       "      <td>0.000000</td>\n",
       "      <td>27500.0</td>\n",
       "      <td>5634.195456</td>\n",
       "      <td>2301.948890</td>\n",
       "      <td>3894.736842</td>\n",
       "      <td>4758.333333</td>\n",
       "      <td>4975.595238</td>\n",
       "      <td>5350.000000</td>\n",
       "      <td>56064.285714</td>\n",
       "    </tr>\n",
       "    <tr>\n",
       "      <th>Replacement</th>\n",
       "      <td>27500.0</td>\n",
       "      <td>14.286655</td>\n",
       "      <td>11.819695</td>\n",
       "      <td>2.0</td>\n",
       "      <td>10.0</td>\n",
       "      <td>13.0</td>\n",
       "      <td>15.0</td>\n",
       "      <td>845.0</td>\n",
       "      <td>27500.0</td>\n",
       "      <td>7.177491</td>\n",
       "      <td>...</td>\n",
       "      <td>0.111111</td>\n",
       "      <td>0.461538</td>\n",
       "      <td>27500.0</td>\n",
       "      <td>4059.443221</td>\n",
       "      <td>1757.870498</td>\n",
       "      <td>2180.000000</td>\n",
       "      <td>3342.857143</td>\n",
       "      <td>3608.514493</td>\n",
       "      <td>3964.285714</td>\n",
       "      <td>36716.666667</td>\n",
       "    </tr>\n",
       "    <tr>\n",
       "      <th>Tunnels</th>\n",
       "      <td>27500.0</td>\n",
       "      <td>14.114000</td>\n",
       "      <td>4.410760</td>\n",
       "      <td>2.0</td>\n",
       "      <td>11.0</td>\n",
       "      <td>13.0</td>\n",
       "      <td>16.0</td>\n",
       "      <td>48.0</td>\n",
       "      <td>27500.0</td>\n",
       "      <td>5.498982</td>\n",
       "      <td>...</td>\n",
       "      <td>0.000000</td>\n",
       "      <td>0.000000</td>\n",
       "      <td>27500.0</td>\n",
       "      <td>11952.133291</td>\n",
       "      <td>3913.762007</td>\n",
       "      <td>7723.076923</td>\n",
       "      <td>10526.666667</td>\n",
       "      <td>11169.230769</td>\n",
       "      <td>11972.222222</td>\n",
       "      <td>70477.777778</td>\n",
       "    </tr>\n",
       "  </tbody>\n",
       "</table>\n",
       "<p>3 rows × 64 columns</p>\n",
       "</div>"
      ],
      "text/plain": [
       "                numturns                                                      \\\n",
       "                   count       mean        std  min   25%   50%   75%    max   \n",
       "name                                                                           \n",
       "NewBiggestFirst  27500.0  13.558436   4.623208  2.0  11.0  13.0  15.0  112.0   \n",
       "Replacement      27500.0  14.286655  11.819695  2.0  10.0  13.0  15.0  845.0   \n",
       "Tunnels          27500.0  14.114000   4.410760  2.0  11.0  13.0  16.0   48.0   \n",
       "\n",
       "                numdiscards            ... percentnones            \\\n",
       "                      count      mean  ...          75%       max   \n",
       "name                                   ...                          \n",
       "NewBiggestFirst     27500.0  5.723745  ...     0.000000  0.000000   \n",
       "Replacement         27500.0  7.177491  ...     0.111111  0.461538   \n",
       "Tunnels             27500.0  5.498982  ...     0.000000  0.000000   \n",
       "\n",
       "                avgcomputationaltime                                          \\\n",
       "                               count          mean          std          min   \n",
       "name                                                                           \n",
       "NewBiggestFirst              27500.0   5634.195456  2301.948890  3894.736842   \n",
       "Replacement                  27500.0   4059.443221  1757.870498  2180.000000   \n",
       "Tunnels                      27500.0  11952.133291  3913.762007  7723.076923   \n",
       "\n",
       "                                                                         \n",
       "                          25%           50%           75%           max  \n",
       "name                                                                     \n",
       "NewBiggestFirst   4758.333333   4975.595238   5350.000000  56064.285714  \n",
       "Replacement       3342.857143   3608.514493   3964.285714  36716.666667  \n",
       "Tunnels          10526.666667  11169.230769  11972.222222  70477.777778  \n",
       "\n",
       "[3 rows x 64 columns]"
      ]
     },
     "execution_count": 30,
     "metadata": {},
     "output_type": "execute_result"
    }
   ],
   "source": [
    "df = get_stats_df()\n",
    "statistics = df.groupby(['name']).describe()\n",
    "statistics"
   ]
  },
  {
   "cell_type": "code",
   "execution_count": 31,
   "metadata": {},
   "outputs": [
    {
     "name": "stdout",
     "output_type": "stream",
     "text": [
      "name,#players,mean,low,high,size,\n",
      "NewBiggestFirst,1,13.60600,13.43482,13.77718,2500\n",
      "NewBiggestFirst,2,13.55360,13.46386,13.64334,10000\n",
      "NewBiggestFirst,3,13.55373,13.47860,13.62887,15000\n",
      "Replacement    ,1,13.73200,13.50733,13.95667,2500\n",
      "Replacement    ,2,14.06060,13.88546,14.23574,10000\n",
      "Replacement    ,3,14.52980,14.30500,14.75460,15000\n",
      "Tunnels        ,1,14.02400,13.85453,14.19347,2500\n",
      "Tunnels        ,2,14.10840,14.02202,14.19478,10000\n",
      "Tunnels        ,3,14.13273,14.06186,14.20361,15000\n"
     ]
    }
   ],
   "source": [
    "\n",
    "print(f'name,#players,mean,low,high,size,')\n",
    "for player in players:\n",
    "    name, numplayers = player\n",
    "    df = get_df()\n",
    "    df1 = df[(df['name'] == name) & (df['numplayers'] == numplayers)] # df.query(f'name == \"{name}\"').query(f'numplayers == {numplayers}')    \n",
    "    mean, low, high = mean_confidence_interval(df1['numturns'])\n",
    "    \n",
    "    print(f'{ name:15},{ numplayers },{ float(mean):5.5f},{ float(low):5.5f},{ float(high):5.5f},{ len(df1.index):4d}')\n",
    "    # print(f'name={ name:15} #players={ numplayers } mean={ float(mean):5.5f} low={ float(low):5.5f} high={ float(high):5.5f} size={ len(df1.index):4d}')"
   ]
  },
  {
   "cell_type": "code",
   "execution_count": null,
   "metadata": {},
   "outputs": [
    {
     "name": "stdout",
     "output_type": "stream",
     "text": [
      "name,#players,mean,low,high,size,\n",
      "NewBiggestFirst,1,13.60600,13.43482,13.77718,2500\n",
      "NewBiggestFirst,2,13.55360,13.46386,13.64334,10000\n",
      "NewBiggestFirst,3,13.55373,13.47860,13.62887,15000\n",
      "Replacement    ,1,13.73200,13.50733,13.95667,2500\n",
      "Replacement    ,2,14.06060,13.88546,14.23574,10000\n",
      "Replacement    ,3,14.52980,14.30500,14.75460,15000\n",
      "Tunnels        ,1,14.02400,13.85453,14.19347,2500\n",
      "Tunnels        ,2,14.10840,14.02202,14.19478,10000\n",
      "Tunnels        ,3,14.13273,14.06186,14.20361,15000\n"
     ]
    }
   ],
   "source": [
    "\n",
    "print(f'name,#players,mean,low,high,size,')\n",
    "for player in players:\n",
    "    name, numplayers = player\n",
    "    df = get_df()\n",
    "    df1 = df[(df['name'] == name) & (df['numplayers'] == numplayers)] # df.query(f'name == \"{name}\"').query(f'numplayers == {numplayers}')    \n",
    "    mean, low, high = mean_confidence_interval(df1['numturns'])\n",
    "    \n",
    "    print(f'{ name:15},{ numplayers },{ float(mean):5.5f},{ float(low):5.5f},{ float(high):5.5f},{ len(df1.index):4d}')\n",
    "    # print(f'name={ name:15} #players={ numplayers } mean={ float(mean):5.5f} low={ float(low):5.5f} high={ float(high):5.5f} size={ len(df1.index):4d}')"
   ]
  },
  {
   "cell_type": "code",
   "execution_count": 33,
   "metadata": {},
   "outputs": [],
   "source": [
    "from notebook_utils.stats_tests.regression_tests import run_linear_regression\n",
    "# https://www.scribbr.com/statistics/pearson-correlation-coefficient/\n",
    "df = get_stats_df()\n"
   ]
  },
  {
   "cell_type": "code",
   "execution_count": 34,
   "metadata": {},
   "outputs": [
    {
     "name": "stdout",
     "output_type": "stream",
     "text": [
      "r^2: 0.32472934818095633 [-15.89609075]x + 20.78092903113837\n",
      "Correlation coefficient: -0.5698502857601779\n",
      "P-value: 0.0\n"
     ]
    }
   ],
   "source": [
    "from notebook_utils.stats_tests.pearson_correlation import pearsons_correlation\n",
    "\n",
    "_df = df[(df['name'] == \"NewBiggestFirst\")]\n",
    "# mx + b\n",
    "r2, m, b = run_linear_regression(_df, _df['percentdiscards'], _df['numturns'])\n",
    "print(f'r^2: {r2} {m}x + {b}')\n",
    "\n",
    "pearsons_correlation(_df['percentdiscards'], _df['numturns'])\n",
    "\n"
   ]
  },
  {
   "cell_type": "code",
   "execution_count": 35,
   "metadata": {},
   "outputs": [
    {
     "name": "stdout",
     "output_type": "stream",
     "text": [
      "r^2: 0.1674506781639824 [-10.74357811]x + 18.530631858724636\n",
      "Correlation coefficient: -0.4092073779442184\n",
      "P-value: 0.0\n"
     ]
    }
   ],
   "source": [
    "_df = df[(df['name'] == \"Tunnels\")]\n",
    "# mx + b\n",
    "r2, m, b = run_linear_regression(_df, _df['percentdiscards'], _df['numturns'])\n",
    "print(f'r^2: {r2} {m}x + {b}')\n",
    "pearsons_correlation(_df['percentdiscards'], _df['numturns'])"
   ]
  },
  {
   "cell_type": "code",
   "execution_count": 36,
   "metadata": {},
   "outputs": [
    {
     "name": "stdout",
     "output_type": "stream",
     "text": [
      "r^2: 0.10747422785465355 [-24.42548776]x + 27.60872923199144\n",
      "Correlation coefficient: -0.32783262170603744\n",
      "P-value: 0.0\n"
     ]
    }
   ],
   "source": [
    "_df = df[(df['name'] == \"Replacement\")]\n",
    "# mx + b\n",
    "r2, m, b = run_linear_regression(_df, _df['percentdiscards'], _df['numturns'])\n",
    "print(f'r^2: {r2} {m}x + {b}')\n",
    "\n",
    "pearsons_correlation(_df['percentdiscards'], _df['numturns'])"
   ]
  },
  {
   "cell_type": "code",
   "execution_count": 37,
   "metadata": {},
   "outputs": [
    {
     "name": "stdout",
     "output_type": "stream",
     "text": [
      "r^2: 0.32472934818095633 [15.89609075]x + 4.884838276386949\n",
      "Correlation coefficient: 0.5698502857601779\n",
      "P-value: 0.0\n"
     ]
    }
   ],
   "source": [
    "_df = df[(df['name'] == \"NewBiggestFirst\")]\n",
    "# mx + b\n",
    "r2, m, b = run_linear_regression(_df, _df['percentdraws'], _df['numturns'])\n",
    "print(f'r^2: {r2} {m}x + {b}')\n",
    "\n",
    "pearsons_correlation(_df['percentdraws'], _df['numturns'])"
   ]
  },
  {
   "cell_type": "code",
   "execution_count": 38,
   "metadata": {},
   "outputs": [
    {
     "name": "stdout",
     "output_type": "stream",
     "text": [
      "r^2: 0.1674506781639823 [10.74357811]x + 7.78705375248178\n",
      "Correlation coefficient: 0.40920737794421835\n",
      "P-value: 0.0\n"
     ]
    }
   ],
   "source": [
    "_df = df[(df['name'] == \"Tunnels\")]\n",
    "# mx + b\n",
    "r2, m, b = run_linear_regression(_df, _df['percentdraws'], _df['numturns'])\n",
    "print(f'r^2: {r2} {m}x + {b}')\n",
    "\n",
    "\n",
    "pearsons_correlation(_df['percentdraws'], _df['numturns'])"
   ]
  },
  {
   "cell_type": "code",
   "execution_count": 39,
   "metadata": {},
   "outputs": [
    {
     "name": "stdout",
     "output_type": "stream",
     "text": [
      "r^2: 0.056101761055378896 [19.22380015]x + 6.80537005791087\n",
      "Correlation coefficient: 0.2368581032081845\n",
      "P-value: 0.0\n"
     ]
    }
   ],
   "source": [
    "_df = df[(df['name'] == \"Replacement\")]\n",
    "# mx + b\n",
    "r2, m, b = run_linear_regression(_df, _df['percentdraws'], _df['numturns'])\n",
    "print(f'r^2: {r2} {m}x + {b}')\n",
    "\n",
    "\n",
    "pearsons_correlation(_df['percentdraws'], _df['numturns'])"
   ]
  },
  {
   "cell_type": "code",
   "execution_count": 40,
   "metadata": {},
   "outputs": [
    {
     "name": "stdout",
     "output_type": "stream",
     "text": [
      "r^2: 0.0 [0.]x + 13.558436363636364\n",
      "Correlation coefficient: nan\n",
      "P-value: nan\n"
     ]
    },
    {
     "name": "stderr",
     "output_type": "stream",
     "text": [
      "c:\\Users\\patri\\Projects\\SeniorResearchProject\\notebook_utils\\stats_tests\\pearson_correlation.py:9: ConstantInputWarning: An input array is constant; the correlation coefficient is not defined.\n",
      "  correlation_coefficient, p_value = stats.pearsonr(x, y)\n"
     ]
    }
   ],
   "source": [
    "_df = df[(df['name'] == \"NewBiggestFirst\")]\n",
    "# mx + b\n",
    "r2, m, b = run_linear_regression(_df, _df['percentnones'], _df['numturns'])\n",
    "print(f'r^2: {r2} {m}x + {b}')\n",
    "\n",
    "pearsons_correlation(_df['percentnones'], _df['numturns'])"
   ]
  },
  {
   "cell_type": "code",
   "execution_count": 41,
   "metadata": {},
   "outputs": [
    {
     "name": "stdout",
     "output_type": "stream",
     "text": [
      "r^2: 0.0 [0.]x + 14.114\n",
      "Correlation coefficient: nan\n",
      "P-value: nan\n"
     ]
    },
    {
     "name": "stderr",
     "output_type": "stream",
     "text": [
      "c:\\Users\\patri\\Projects\\SeniorResearchProject\\notebook_utils\\stats_tests\\pearson_correlation.py:9: ConstantInputWarning: An input array is constant; the correlation coefficient is not defined.\n",
      "  correlation_coefficient, p_value = stats.pearsonr(x, y)\n"
     ]
    }
   ],
   "source": [
    "_df = df[(df['name'] == \"Tunnels\")]\n",
    "# mx + b\n",
    "r2, m, b = run_linear_regression(_df, _df['percentnones'], _df['numturns'])\n",
    "print(f'r^2: {r2} {m}x + {b}')\n",
    "\n",
    "pearsons_correlation(_df['percentnones'], _df['numturns'])"
   ]
  },
  {
   "cell_type": "code",
   "execution_count": 42,
   "metadata": {},
   "outputs": [
    {
     "name": "stdout",
     "output_type": "stream",
     "text": [
      "r^2: 0.05694161392891428 [38.4289856]x + 11.772813245148829\n",
      "Correlation coefficient: 0.2386244202275081\n",
      "P-value: 0.0\n"
     ]
    }
   ],
   "source": [
    "_df = df[(df['name'] == \"Replacement\")]\n",
    "# mx + b\n",
    "r2, m, b = run_linear_regression(_df, _df['percentnones'], _df['numturns'])\n",
    "print(f'r^2: {r2} {m}x + {b}')\n",
    "\n",
    "pearsons_correlation(_df['percentnones'], _df['numturns'])"
   ]
  },
  {
   "cell_type": "code",
   "execution_count": 43,
   "metadata": {},
   "outputs": [
    {
     "data": {
      "text/html": [
       "<div>\n",
       "<style scoped>\n",
       "    .dataframe tbody tr th:only-of-type {\n",
       "        vertical-align: middle;\n",
       "    }\n",
       "\n",
       "    .dataframe tbody tr th {\n",
       "        vertical-align: top;\n",
       "    }\n",
       "\n",
       "    .dataframe thead th {\n",
       "        text-align: right;\n",
       "    }\n",
       "</style>\n",
       "<table border=\"1\" class=\"dataframe\">\n",
       "  <thead>\n",
       "    <tr style=\"text-align: right;\">\n",
       "      <th></th>\n",
       "      <th>count</th>\n",
       "      <th>numplayers</th>\n",
       "      <th>starting_player</th>\n",
       "      <th>winning_player</th>\n",
       "    </tr>\n",
       "  </thead>\n",
       "  <tbody>\n",
       "    <tr>\n",
       "      <th>0</th>\n",
       "      <td>2641</td>\n",
       "      <td>2</td>\n",
       "      <td>NewBiggestFirst</td>\n",
       "      <td>NewBiggestFirst</td>\n",
       "    </tr>\n",
       "    <tr>\n",
       "      <th>1</th>\n",
       "      <td>1184</td>\n",
       "      <td>2</td>\n",
       "      <td>NewBiggestFirst</td>\n",
       "      <td>Replacement</td>\n",
       "    </tr>\n",
       "    <tr>\n",
       "      <th>2</th>\n",
       "      <td>1050</td>\n",
       "      <td>2</td>\n",
       "      <td>NewBiggestFirst</td>\n",
       "      <td>Tunnels</td>\n",
       "    </tr>\n",
       "    <tr>\n",
       "      <th>3</th>\n",
       "      <td>1120</td>\n",
       "      <td>2</td>\n",
       "      <td>Replacement</td>\n",
       "      <td>NewBiggestFirst</td>\n",
       "    </tr>\n",
       "    <tr>\n",
       "      <th>4</th>\n",
       "      <td>2522</td>\n",
       "      <td>2</td>\n",
       "      <td>Replacement</td>\n",
       "      <td>Replacement</td>\n",
       "    </tr>\n",
       "    <tr>\n",
       "      <th>5</th>\n",
       "      <td>998</td>\n",
       "      <td>2</td>\n",
       "      <td>Replacement</td>\n",
       "      <td>Tunnels</td>\n",
       "    </tr>\n",
       "    <tr>\n",
       "      <th>6</th>\n",
       "      <td>1239</td>\n",
       "      <td>2</td>\n",
       "      <td>Tunnels</td>\n",
       "      <td>NewBiggestFirst</td>\n",
       "    </tr>\n",
       "    <tr>\n",
       "      <th>7</th>\n",
       "      <td>1294</td>\n",
       "      <td>2</td>\n",
       "      <td>Tunnels</td>\n",
       "      <td>Replacement</td>\n",
       "    </tr>\n",
       "    <tr>\n",
       "      <th>8</th>\n",
       "      <td>2952</td>\n",
       "      <td>2</td>\n",
       "      <td>Tunnels</td>\n",
       "      <td>Tunnels</td>\n",
       "    </tr>\n",
       "    <tr>\n",
       "      <th>9</th>\n",
       "      <td>1746</td>\n",
       "      <td>3</td>\n",
       "      <td>NewBiggestFirst</td>\n",
       "      <td>NewBiggestFirst</td>\n",
       "    </tr>\n",
       "    <tr>\n",
       "      <th>10</th>\n",
       "      <td>1422</td>\n",
       "      <td>3</td>\n",
       "      <td>NewBiggestFirst</td>\n",
       "      <td>Replacement</td>\n",
       "    </tr>\n",
       "    <tr>\n",
       "      <th>11</th>\n",
       "      <td>1397</td>\n",
       "      <td>3</td>\n",
       "      <td>NewBiggestFirst</td>\n",
       "      <td>Tunnels</td>\n",
       "    </tr>\n",
       "    <tr>\n",
       "      <th>12</th>\n",
       "      <td>1439</td>\n",
       "      <td>3</td>\n",
       "      <td>Replacement</td>\n",
       "      <td>NewBiggestFirst</td>\n",
       "    </tr>\n",
       "    <tr>\n",
       "      <th>13</th>\n",
       "      <td>1750</td>\n",
       "      <td>3</td>\n",
       "      <td>Replacement</td>\n",
       "      <td>Replacement</td>\n",
       "    </tr>\n",
       "    <tr>\n",
       "      <th>14</th>\n",
       "      <td>1382</td>\n",
       "      <td>3</td>\n",
       "      <td>Replacement</td>\n",
       "      <td>Tunnels</td>\n",
       "    </tr>\n",
       "    <tr>\n",
       "      <th>15</th>\n",
       "      <td>1815</td>\n",
       "      <td>3</td>\n",
       "      <td>Tunnels</td>\n",
       "      <td>NewBiggestFirst</td>\n",
       "    </tr>\n",
       "    <tr>\n",
       "      <th>16</th>\n",
       "      <td>1828</td>\n",
       "      <td>3</td>\n",
       "      <td>Tunnels</td>\n",
       "      <td>Replacement</td>\n",
       "    </tr>\n",
       "    <tr>\n",
       "      <th>17</th>\n",
       "      <td>2221</td>\n",
       "      <td>3</td>\n",
       "      <td>Tunnels</td>\n",
       "      <td>Tunnels</td>\n",
       "    </tr>\n",
       "  </tbody>\n",
       "</table>\n",
       "</div>"
      ],
      "text/plain": [
       "    count  numplayers  starting_player   winning_player\n",
       "0    2641           2  NewBiggestFirst  NewBiggestFirst\n",
       "1    1184           2  NewBiggestFirst      Replacement\n",
       "2    1050           2  NewBiggestFirst          Tunnels\n",
       "3    1120           2      Replacement  NewBiggestFirst\n",
       "4    2522           2      Replacement      Replacement\n",
       "5     998           2      Replacement          Tunnels\n",
       "6    1239           2          Tunnels  NewBiggestFirst\n",
       "7    1294           2          Tunnels      Replacement\n",
       "8    2952           2          Tunnels          Tunnels\n",
       "9    1746           3  NewBiggestFirst  NewBiggestFirst\n",
       "10   1422           3  NewBiggestFirst      Replacement\n",
       "11   1397           3  NewBiggestFirst          Tunnels\n",
       "12   1439           3      Replacement  NewBiggestFirst\n",
       "13   1750           3      Replacement      Replacement\n",
       "14   1382           3      Replacement          Tunnels\n",
       "15   1815           3          Tunnels  NewBiggestFirst\n",
       "16   1828           3          Tunnels      Replacement\n",
       "17   2221           3          Tunnels          Tunnels"
      ]
     },
     "execution_count": 43,
     "metadata": {},
     "output_type": "execute_result"
    }
   ],
   "source": [
    "from notebook_utils.queries import run_query_file\n",
    "import pandas as pd\n",
    "data = run_query_file('sql_queries/get_starting_player_and_winning_player_counts.sql')\n",
    "# print(data)\n",
    "\n",
    "_i_df = {\n",
    "    'count':[i[0] for i in data],\n",
    "    'numplayers': [i[1] for i in data],\n",
    "    'starting_player': [i[2] for i in data],\n",
    "    'winning_player': [i[3] for i in data],\n",
    "}\n",
    "\n",
    "player_winds_df = pd.DataFrame(_i_df)\n",
    "player_winds_df\n",
    "\n",
    "\n",
    "\n",
    "\n",
    "\n"
   ]
  },
  {
   "cell_type": "code",
   "execution_count": 44,
   "metadata": {},
   "outputs": [
    {
     "data": {
      "text/html": [
       "<div>\n",
       "<style scoped>\n",
       "    .dataframe tbody tr th:only-of-type {\n",
       "        vertical-align: middle;\n",
       "    }\n",
       "\n",
       "    .dataframe tbody tr th {\n",
       "        vertical-align: top;\n",
       "    }\n",
       "\n",
       "    .dataframe thead th {\n",
       "        text-align: right;\n",
       "    }\n",
       "</style>\n",
       "<table border=\"1\" class=\"dataframe\">\n",
       "  <thead>\n",
       "    <tr style=\"text-align: right;\">\n",
       "      <th>winning_player</th>\n",
       "      <th>NewBiggestFirst</th>\n",
       "      <th>Replacement</th>\n",
       "    </tr>\n",
       "    <tr>\n",
       "      <th>starting_player</th>\n",
       "      <th></th>\n",
       "      <th></th>\n",
       "    </tr>\n",
       "  </thead>\n",
       "  <tbody>\n",
       "    <tr>\n",
       "      <th>NewBiggestFirst</th>\n",
       "      <td>1746</td>\n",
       "      <td>1422</td>\n",
       "    </tr>\n",
       "    <tr>\n",
       "      <th>Replacement</th>\n",
       "      <td>1439</td>\n",
       "      <td>1750</td>\n",
       "    </tr>\n",
       "    <tr>\n",
       "      <th>Tunnels</th>\n",
       "      <td>1815</td>\n",
       "      <td>1828</td>\n",
       "    </tr>\n",
       "  </tbody>\n",
       "</table>\n",
       "</div>"
      ],
      "text/plain": [
       "winning_player   NewBiggestFirst  Replacement\n",
       "starting_player                              \n",
       "NewBiggestFirst             1746         1422\n",
       "Replacement                 1439         1750\n",
       "Tunnels                     1815         1828"
      ]
     },
     "execution_count": 44,
     "metadata": {},
     "output_type": "execute_result"
    }
   ],
   "source": [
    "from notebook_utils.queries import run_query_file\n",
    "import pandas as pd\n",
    "data = run_query_file('sql_queries/get_starting_player_and_winning_player.sql')\n",
    "# print(data)\n",
    "\n",
    "_i_df = {\n",
    "    'id':[i[0] for i in data],\n",
    "    'numplayers': [i[1] for i in data],\n",
    "    'starting_player': [i[2] for i in data],\n",
    "    'winning_player': [i[3] for i in data],\n",
    "}\n",
    "\n",
    "player_winds_df = pd.DataFrame(_i_df)\n",
    "player_winds_df = player_winds_df[player_winds_df['numplayers'] == 3]\n",
    "player_winds_df = player_winds_df[player_winds_df['winning_player'] !=  \"Tunnels\"]\n",
    "crosstab = pd.crosstab(\n",
    "    player_winds_df['starting_player'],\n",
    "    player_winds_df['winning_player'],\n",
    ")\n",
    "crosstab\n",
    "\n",
    "\n",
    "\n",
    "\n",
    "\n"
   ]
  },
  {
   "cell_type": "code",
   "execution_count": 45,
   "metadata": {},
   "outputs": [
    {
     "data": {
      "text/plain": [
       "np.float64(1.6161214561704006e-14)"
      ]
     },
     "execution_count": 45,
     "metadata": {},
     "output_type": "execute_result"
    }
   ],
   "source": [
    "from scipy.stats import chi2_contingency\n",
    "\n",
    "res = chi2_contingency(crosstab)\n",
    "res.pvalue\n",
    "# print(f' chi2={chi2}, p={p}, dof={dof}, ex={ex}')"
   ]
  },
  {
   "cell_type": "code",
   "execution_count": 46,
   "metadata": {},
   "outputs": [
    {
     "data": {
      "text/html": [
       "<div>\n",
       "<style scoped>\n",
       "    .dataframe tbody tr th:only-of-type {\n",
       "        vertical-align: middle;\n",
       "    }\n",
       "\n",
       "    .dataframe tbody tr th {\n",
       "        vertical-align: top;\n",
       "    }\n",
       "\n",
       "    .dataframe thead th {\n",
       "        text-align: right;\n",
       "    }\n",
       "</style>\n",
       "<table border=\"1\" class=\"dataframe\">\n",
       "  <thead>\n",
       "    <tr style=\"text-align: right;\">\n",
       "      <th>winning_player</th>\n",
       "      <th>NewBiggestFirst</th>\n",
       "      <th>Replacement</th>\n",
       "      <th>Tunnels</th>\n",
       "    </tr>\n",
       "    <tr>\n",
       "      <th>starting_player</th>\n",
       "      <th></th>\n",
       "      <th></th>\n",
       "      <th></th>\n",
       "    </tr>\n",
       "  </thead>\n",
       "  <tbody>\n",
       "    <tr>\n",
       "      <th>NewBiggestFirst</th>\n",
       "      <td>1746</td>\n",
       "      <td>1422</td>\n",
       "      <td>1397</td>\n",
       "    </tr>\n",
       "    <tr>\n",
       "      <th>Replacement</th>\n",
       "      <td>1439</td>\n",
       "      <td>1750</td>\n",
       "      <td>1382</td>\n",
       "    </tr>\n",
       "    <tr>\n",
       "      <th>Tunnels</th>\n",
       "      <td>1815</td>\n",
       "      <td>1828</td>\n",
       "      <td>2221</td>\n",
       "    </tr>\n",
       "  </tbody>\n",
       "</table>\n",
       "</div>"
      ],
      "text/plain": [
       "winning_player   NewBiggestFirst  Replacement  Tunnels\n",
       "starting_player                                       \n",
       "NewBiggestFirst             1746         1422     1397\n",
       "Replacement                 1439         1750     1382\n",
       "Tunnels                     1815         1828     2221"
      ]
     },
     "execution_count": 46,
     "metadata": {},
     "output_type": "execute_result"
    }
   ],
   "source": [
    "from notebook_utils.queries import run_query_file\n",
    "import pandas as pd\n",
    "data = run_query_file('sql_queries/get_starting_player_and_winning_player.sql')\n",
    "# print(data)\n",
    "\n",
    "_i_df = {\n",
    "    'id':[i[0] for i in data],\n",
    "    'numplayers': [i[1] for i in data],\n",
    "    'starting_player': [i[2] for i in data],\n",
    "    'winning_player': [i[3] for i in data],\n",
    "}\n",
    "\n",
    "player_winds_df = pd.DataFrame(_i_df)\n",
    "player_winds_df = player_winds_df[player_winds_df['numplayers'] == 3]\n",
    "# player_winds_df = player_winds_df[player_winds_df['winning_player'] !=  \"Tunnels\"]\n",
    "crosstab = pd.crosstab(\n",
    "    player_winds_df['starting_player'],\n",
    "    player_winds_df['winning_player'],\n",
    ")\n",
    "crosstab\n",
    "\n",
    "\n"
   ]
  },
  {
   "cell_type": "code",
   "execution_count": 47,
   "metadata": {},
   "outputs": [
    {
     "data": {
      "text/plain": [
       "np.float64(1.1694176264194031e-32)"
      ]
     },
     "execution_count": 47,
     "metadata": {},
     "output_type": "execute_result"
    }
   ],
   "source": [
    "\n",
    "res = chi2_contingency(crosstab)\n",
    "res.pvalue\n",
    "# print(f' chi2={chi2}, p={p}, dof={dof}, ex={ex}')"
   ]
  },
  {
   "cell_type": "code",
   "execution_count": 48,
   "metadata": {},
   "outputs": [
    {
     "name": "stdout",
     "output_type": "stream",
     "text": [
      "Reg Analysis (comp time): NewBiggestFirst\n",
      "r^2: 0.0014578286161230913 [-7.66833369e-05]x + 13.990485272009561\n",
      "Correlation coefficient: -0.038181521919942465\n",
      "P-value: 2.3933416234785183e-10\n",
      "Reg Analysis (comp time): Tunnels\n",
      "r^2: 0.011274671713371598 [-0.00011967]x + 15.544264564787687\n",
      "Correlation coefficient: -0.10618225705536458\n",
      "P-value: 8.914650992059948e-70\n",
      "Reg Analysis (comp time): Replacement\n",
      "r^2: 0.00014015919379462005 [7.96031409e-05]x + 13.963510114762252\n",
      "Correlation coefficient: 0.011838884820575029\n",
      "P-value: 0.049618700273051757\n",
      "Reg Analysis (comp time): All\n",
      "r^2: 0.00025997682034195613 [-2.83222901e-05]x + 14.1907162476672\n",
      "Correlation coefficient: -0.016123796709894556\n",
      "P-value: 3.6313319265672803e-06\n"
     ]
    }
   ],
   "source": [
    "# time regression analysis\n",
    "\n",
    "df = get_stats_df()\n",
    "\n",
    "for name in ['NewBiggestFirst', 'Tunnels', 'Replacement', None]:\n",
    "    if name is not None:\n",
    "        print(f'Reg Analysis (comp time): {name}')\n",
    "        _df = df[(df['name'] == name)]\n",
    "    else:\n",
    "        print(f'Reg Analysis (comp time): All')\n",
    "        _df = df\n",
    "    # mx + b\n",
    "    r2, m, b = run_linear_regression(_df, _df['avgcomputationaltime'], _df['numturns'])\n",
    "    print(f'r^2: {r2} {m}x + {b}')\n",
    "\n",
    "    pearsons_correlation(_df['avgcomputationaltime'], _df['numturns'])\n"
   ]
  }
 ],
 "metadata": {
  "kernelspec": {
   "display_name": "Python 3",
   "language": "python",
   "name": "python3"
  },
  "language_info": {
   "codemirror_mode": {
    "name": "ipython",
    "version": 3
   },
   "file_extension": ".py",
   "mimetype": "text/x-python",
   "name": "python",
   "nbconvert_exporter": "python",
   "pygments_lexer": "ipython3",
   "version": "3.12.7"
  }
 },
 "nbformat": 4,
 "nbformat_minor": 2
}
